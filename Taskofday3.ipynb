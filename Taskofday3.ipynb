{
 "cells": [
  {
   "cell_type": "code",
   "execution_count": 60,
   "metadata": {},
   "outputs": [],
   "source": [
    "def empty_function():\n",
    "    pass\n",
    "empty_function()\n"
   ]
  },
  {
   "cell_type": "code",
   "execution_count": 59,
   "metadata": {},
   "outputs": [
    {
     "name": "stdout",
     "output_type": "stream",
     "text": [
      "The number is positive.\n"
     ]
    }
   ],
   "source": [
    "#Assert & Pass:\n",
    "def check_num_positive(number):\n",
    "    assert number > 0, \"The number is not positive.\"\n",
    "    pass\n",
    "number = float(input(\"Enter a number: \"))\n",
    "check_num_positive(number)\n",
    "print(\"The number is positive.\")\n",
    "\n"
   ]
  },
  {
   "cell_type": "code",
   "execution_count": 47,
   "metadata": {},
   "outputs": [
    {
     "name": "stdout",
     "output_type": "stream",
     "text": [
      "0 0\n",
      "1 1\n",
      "2 2\n",
      "3 4\n",
      "4 5\n",
      "5 6\n",
      "6 7\n"
     ]
    }
   ],
   "source": [
    "# Enumerate Function:\n",
    "my_dict = {0: 1, 1: 2, 2: 3, 4: 4, 5: 5, 6: 6, 7: 7}\n",
    "\n",
    "for i, key in enumerate(my_dict):\n",
    "    print(i, key)\n"
   ]
  },
  {
   "cell_type": "code",
   "execution_count": 43,
   "metadata": {},
   "outputs": [
    {
     "name": "stdout",
     "output_type": "stream",
     "text": [
      "Index: 0, Value: Blue\n",
      "Index: 1, Value: Green\n",
      "Index: 2, Value: White\n",
      "Index: 3, Value: Black\n"
     ]
    }
   ],
   "source": [
    "#Enumerate Function:\n",
    "List = [\"Blue\", \"Green\", \"White\", \"Black\"]\n",
    "\n",
    "for index, value in enumerate(List):\n",
    "    print(f\"Index: {index}, Value: {value}\")"
   ]
  },
  {
   "cell_type": "code",
   "execution_count": 41,
   "metadata": {},
   "outputs": [
    {
     "name": "stdout",
     "output_type": "stream",
     "text": [
      "The sum of all numbers from 1 to 100: 45\n"
     ]
    }
   ],
   "source": [
    "#Loop Control Statements: continue and break\n",
    "num = 0\n",
    "num1 = 1\n",
    "while num <= 100:\n",
    "    num1 += num\n",
    "    if num1 > 1000:\n",
    "        break\n",
    "    num += 1\n",
    "print(\"The sum of all numbers from 1 to 100:\", num)\n"
   ]
  },
  {
   "cell_type": "code",
   "execution_count": 40,
   "metadata": {},
   "outputs": [
    {
     "name": "stdout",
     "output_type": "stream",
     "text": [
      "1\n",
      "2\n",
      "3\n",
      "4\n",
      "6\n",
      "7\n",
      "8\n",
      "9\n",
      "10\n"
     ]
    }
   ],
   "source": [
    "#Loop Control Statements: continue and break\n",
    "for i in range(1, 11):\n",
    "    if i == 5:\n",
    "        continue\n",
    "    print(i)\n"
   ]
  },
  {
   "cell_type": "code",
   "execution_count": 39,
   "metadata": {},
   "outputs": [
    {
     "name": "stdout",
     "output_type": "stream",
     "text": [
      "Fibonacci series is:  0 1 1 2 3 5 8 "
     ]
    }
   ],
   "source": [
    "#Range and Its Variations: While Loop Fibonacci series\n",
    "num = int(input())\n",
    "x = 0\n",
    "y = 1\n",
    "sum = x + y\n",
    "count = 1\n",
    "print(\"Fibonacci series is: \", end=\" \")\n",
    "while (count <= num):\n",
    "\tcount += 1\n",
    "\tprint(x, end=\" \")\n",
    "\tx = y\n",
    "\ty = sum\n",
    "\tsum = x + y\n"
   ]
  },
  {
   "cell_type": "code",
   "execution_count": 36,
   "metadata": {},
   "outputs": [
    {
     "ename": "TypeError",
     "evalue": "'>' not supported between instances of 'str' and 'int'",
     "output_type": "error",
     "traceback": [
      "\u001b[1;31m---------------------------------------------------------------------------\u001b[0m",
      "\u001b[1;31mTypeError\u001b[0m                                 Traceback (most recent call last)",
      "Cell \u001b[1;32mIn[36], line 5\u001b[0m\n\u001b[0;32m      2\u001b[0m num1 \u001b[38;5;241m=\u001b[39m \u001b[38;5;28minput\u001b[39m(\u001b[38;5;124m\"\u001b[39m\u001b[38;5;124mEnter the number: \u001b[39m\u001b[38;5;124m\"\u001b[39m)\n\u001b[0;32m      3\u001b[0m fact \u001b[38;5;241m=\u001b[39m \u001b[38;5;241m1\u001b[39m\n\u001b[1;32m----> 5\u001b[0m \u001b[38;5;28;01mwhile\u001b[39;00m \u001b[43mnum1\u001b[49m\u001b[43m \u001b[49m\u001b[38;5;241;43m>\u001b[39;49m\u001b[43m \u001b[49m\u001b[38;5;241;43m1\u001b[39;49m :\n\u001b[0;32m      7\u001b[0m    fact \u001b[38;5;241m*\u001b[39m\u001b[38;5;241m=\u001b[39m num1\n\u001b[0;32m      8\u001b[0m num1 \u001b[38;5;241m-\u001b[39m\u001b[38;5;241m=\u001b[39m \u001b[38;5;241m1.\u001b[39m\n",
      "\u001b[1;31mTypeError\u001b[0m: '>' not supported between instances of 'str' and 'int'"
     ]
    }
   ],
   "source": [
    "#Range and Its Variations: While Loop\n",
    "num1 = input(\"Enter the number: \")\n",
    "fact = 1\n",
    "\n",
    "while num1 > 1 :\n",
    "\n",
    "   fact *= num1\n",
    "num1 -= 1.\n",
    "print('Factorial :', fact)"
   ]
  },
  {
   "cell_type": "code",
   "execution_count": 24,
   "metadata": {},
   "outputs": [
    {
     "name": "stdout",
     "output_type": "stream",
     "text": [
      "3\n",
      "6\n",
      "9\n",
      "12\n",
      "15\n"
     ]
    }
   ],
   "source": [
    "#Range and Its Variations first 5 multiples of 3\n",
    "for i in range(1, 6):\n",
    "    print(3 * i)\n"
   ]
  },
  {
   "cell_type": "code",
   "execution_count": 23,
   "metadata": {},
   "outputs": [
    {
     "name": "stdout",
     "output_type": "stream",
     "text": [
      "2\n",
      "4\n",
      "6\n",
      "8\n",
      "10\n",
      "12\n",
      "14\n",
      "16\n",
      "18\n",
      "20\n",
      "Even numbers between 1 and 20:\n"
     ]
    }
   ],
   "source": [
    "#Range and Its Variations \n",
    "\n",
    "for num in range(2, 21, 2):\n",
    "        print(num)\n",
    "print(\"Even numbers between 1 and 20:\")"
   ]
  },
  {
   "cell_type": "code",
   "execution_count": 20,
   "metadata": {},
   "outputs": [
    {
     "name": "stdout",
     "output_type": "stream",
     "text": [
      "SUM of first  10 numbers is:  45\n"
     ]
    }
   ],
   "source": [
    "#For Loop\n",
    "n = 10\n",
    "\n",
    "sum = 0\n",
    "\n",
    "for i in range(0, 10):\n",
    "\n",
    "   sum = sum+i\n",
    "\n",
    "print(\"SUM of first \", n, \"numbers is: \", sum )"
   ]
  },
  {
   "cell_type": "code",
   "execution_count": 19,
   "metadata": {},
   "outputs": [
    {
     "name": "stdout",
     "output_type": "stream",
     "text": [
      "Blue\n",
      "Green\n",
      "White\n",
      "Black\n"
     ]
    }
   ],
   "source": [
    "#For Loop\n",
    "colours = [\"Blue\", \"Green\", \"White\", \"Black\"]\n",
    "for colour in colours:\n",
    "    print (colour)"
   ]
  },
  {
   "cell_type": "code",
   "execution_count": 15,
   "metadata": {},
   "outputs": [
    {
     "name": "stdout",
     "output_type": "stream",
     "text": [
      "The largest number is: 67.0\n"
     ]
    }
   ],
   "source": [
    "#Control Structure\n",
    "#largest number \n",
    "\n",
    "num1 = float(input(\"Enter the first number: \"))\n",
    "num2 = float(input(\"Enter the second number: \"))\n",
    "num3 = float(input(\"Enter the third number: \"))\n",
    "\n",
    "if num1 >= num2 and num1 >= num3:\n",
    "    Largest = num1\n",
    "elif num2 >= num1 and num2 >= num3:\n",
    "    Largest = num2\n",
    "else:\n",
    "    Largest = num3\n",
    "\n",
    "    print(\"The largest number is:\", Largest)\n",
    "\n"
   ]
  },
  {
   "cell_type": "code",
   "execution_count": 1,
   "metadata": {},
   "outputs": [
    {
     "name": "stdout",
     "output_type": "stream",
     "text": [
      "The number is odd\n"
     ]
    }
   ],
   "source": [
    "#Control Structure\n",
    "\n",
    "num = int(input(\"Enter any number to test whether it is odd or even: \"))\n",
    "\n",
    "if (num % 2)==0:\n",
    "       print(\"The number is even\")\n",
    "\n",
    "else:\n",
    "\n",
    "       print(\"The number is odd\")"
   ]
  }
 ],
 "metadata": {
  "kernelspec": {
   "display_name": "Python 3",
   "language": "python",
   "name": "python3"
  },
  "language_info": {
   "codemirror_mode": {
    "name": "ipython",
    "version": 3
   },
   "file_extension": ".py",
   "mimetype": "text/x-python",
   "name": "python",
   "nbconvert_exporter": "python",
   "pygments_lexer": "ipython3",
   "version": "3.11.4"
  }
 },
 "nbformat": 4,
 "nbformat_minor": 2
}
