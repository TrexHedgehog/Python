{
 "cells": [
  {
   "cell_type": "code",
   "execution_count": 1,
   "metadata": {},
   "outputs": [],
   "source": [
    "# Task - 6"
   ]
  },
  {
   "cell_type": "code",
   "execution_count": null,
   "metadata": {},
   "outputs": [],
   "source": [
    "# Exercise 1: Hierarchical Inheritance"
   ]
  },
  {
   "cell_type": "code",
   "execution_count": 8,
   "metadata": {},
   "outputs": [
    {
     "name": "stdout",
     "output_type": "stream",
     "text": [
      "Car\n",
      "Bike\n"
     ]
    }
   ],
   "source": [
    "class Vehicle:\n",
    "    def vehicle_type(self):\n",
    "        return \"Vehicle is moving\"\n",
    "class Car(Vehicle):\n",
    "    def vehicle_type(self):\n",
    "        return \"Car\"\n",
    "class Bike(Vehicle):\n",
    "    def vehicle_type(self):\n",
    "        return \"Bike\"\n",
    "car = Car()\n",
    "print(car.vehicle_type())\n",
    "bike = Bike()\n",
    "print(bike.vehicle_type())\n"
   ]
  },
  {
   "cell_type": "code",
   "execution_count": 9,
   "metadata": {},
   "outputs": [
    {
     "name": "stdout",
     "output_type": "stream",
     "text": [
      "Vehicle is moving\n",
      "Vehicle is moving\n"
     ]
    }
   ],
   "source": [
    "class Vehicle:\n",
    "    def move(self):\n",
    "        return \"Vehicle is moving\"\n",
    "class Car(Vehicle):\n",
    "    def vehicle_type(self):\n",
    "        return \"Car\"\n",
    "class Bike(Vehicle):\n",
    "    def vehicle_type(self):\n",
    "        return \"Bike\"\n",
    "car = Car()\n",
    "print(car.move())\n",
    "bike = Bike()\n",
    "print(bike.move())\n"
   ]
  },
  {
   "cell_type": "code",
   "execution_count": 10,
   "metadata": {},
   "outputs": [
    {
     "name": "stdout",
     "output_type": "stream",
     "text": [
      "Vehicle is moving\n",
      "Car\n",
      "Vehicle is moving\n",
      "Bike\n"
     ]
    }
   ],
   "source": [
    "class Vehicle:\n",
    "    def move(self):\n",
    "        return \"Vehicle is moving\"\n",
    "class Car(Vehicle):\n",
    "    def vehicle_type(self):\n",
    "        return \"Car\"\n",
    "class Bike(Vehicle):\n",
    "    def vehicle_type(self):\n",
    "        return \"Bike\"\n",
    "car = Car()\n",
    "print(car.move())  \n",
    "print(car.vehicle_type())\n",
    "\n",
    "bike = Bike()\n",
    "print(bike.move()) \n",
    "print(bike.vehicle_type()) \n"
   ]
  },
  {
   "cell_type": "code",
   "execution_count": null,
   "metadata": {},
   "outputs": [],
   "source": [
    "# Exercise 2: Implementing Polymorphism"
   ]
  },
  {
   "cell_type": "code",
   "execution_count": 12,
   "metadata": {},
   "outputs": [
    {
     "name": "stdout",
     "output_type": "stream",
     "text": [
      "The animal makes the sound: Woof!\n",
      "The animal makes the sound: Meow!\n"
     ]
    }
   ],
   "source": [
    "class Animal:\n",
    "    def make_sound(self):\n",
    "        return \"This animal sounds like\"\n",
    "class Dog(Animal):\n",
    "    def make_sound(self):\n",
    "        return \"Woof!\"\n",
    "class Cat(Animal):\n",
    "    def make_sound(self):\n",
    "        return \"Meow!\"\n",
    "def describe_animal(animal):\n",
    "    sound = animal.make_sound()\n",
    "    print(f\"The animal makes the sound: {sound}\")\n",
    "dog = Dog()\n",
    "cat = Cat()\n",
    "describe_animal(dog)  \n",
    "describe_animal(cat) \n"
   ]
  },
  {
   "cell_type": "code",
   "execution_count": 13,
   "metadata": {},
   "outputs": [
    {
     "name": "stdout",
     "output_type": "stream",
     "text": [
      "Woof!\n",
      "Meow!\n"
     ]
    }
   ],
   "source": [
    "class Animal:\n",
    "    def make_sound(self):\n",
    "        pass  \n",
    "class Dog(Animal):\n",
    "    def make_sound(self):\n",
    "        return \"Woof!\"\n",
    "class Cat(Animal):\n",
    "    def make_sound(self):\n",
    "        return \"Meow!\"\n",
    "dog = Dog()\n",
    "cat = Cat()\n",
    "print(dog.make_sound()) \n",
    "print(cat.make_sound()) \n"
   ]
  },
  {
   "cell_type": "code",
   "execution_count": 14,
   "metadata": {},
   "outputs": [
    {
     "name": "stdout",
     "output_type": "stream",
     "text": [
      "The animal makes the sound: Woof!\n",
      "The animal makes the sound: Meow!\n"
     ]
    }
   ],
   "source": [
    "class Animal:\n",
    "    def make_sound(self):\n",
    "        pass\n",
    "class Dog(Animal):\n",
    "    def make_sound(self):\n",
    "        return \"Woof!\"\n",
    "class Cat(Animal):\n",
    "    def make_sound(self):\n",
    "        return \"Meow!\"\n",
    "def describe_animal(animal):\n",
    "    sound = animal.make_sound()\n",
    "    print(f\"The animal makes the sound: {sound}\")\n",
    "dog = Dog()\n",
    "cat = Cat()\n",
    "describe_animal(dog)  \n",
    "describe_animal(cat)\n"
   ]
  },
  {
   "cell_type": "code",
   "execution_count": null,
   "metadata": {},
   "outputs": [],
   "source": [
    "# Exercise 3: Abstract Class and Interface"
   ]
  },
  {
   "cell_type": "code",
   "execution_count": 16,
   "metadata": {},
   "outputs": [
    {
     "name": "stdout",
     "output_type": "stream",
     "text": [
      "Area of the circle: 78.53981633974483\n",
      "Area of the rectangle: 24\n"
     ]
    }
   ],
   "source": [
    "from abc import ABC, abstractmethod\n",
    "class Shape(ABC):\n",
    "    @abstractmethod\n",
    "    def area(self):\n",
    "        pass\n",
    "class Circle(Shape):\n",
    "    def __init__(self, radius): # i have used the init function as was doing it according to the slide provided\n",
    "        self.radius = radius\n",
    "    def area(self):\n",
    "        return pi * self.radius ** 2\n",
    "class Rectangle(Shape):\n",
    "    def __init__(self, width, height):\n",
    "        self.width = width\n",
    "        self.height = height\n",
    "    def area(self):\n",
    "        return self.width * self.height\n",
    "circle = Circle(5)\n",
    "print(\"Area of the circle:\", circle.area())\n",
    "\n",
    "rectangle = Rectangle(4, 6)\n",
    "print(\"Area of the rectangle:\", rectangle.area())\n"
   ]
  },
  {
   "cell_type": "code",
   "execution_count": 19,
   "metadata": {},
   "outputs": [
    {
     "name": "stdout",
     "output_type": "stream",
     "text": [
      "Area of the circle: 78.53981633974483\n",
      "Area of the rectangle: 24\n"
     ]
    }
   ],
   "source": [
    "from abc import ABC, abstractmethod\n",
    "class Shape(ABC):\n",
    "    @abstractmethod\n",
    "    def area(self):\n",
    "        pass\n",
    "class Circle(Shape):\n",
    "    def __init__(self, radius):\n",
    "        self.radius = radius\n",
    "    def area(self):\n",
    "        return pi * self.radius ** 2\n",
    "class Rectangle(Shape):\n",
    "    def __init__(self, width, height):\n",
    "        self.width = width\n",
    "        self.height = height\n",
    "    def area(self):\n",
    "        return self.width * self.height\n",
    "circle = Circle(5)\n",
    "print(\"Area of the circle:\", circle.area())\n",
    "rectangle = Rectangle(4, 6) \n",
    "print(\"Area of the rectangle:\", rectangle.area())\n"
   ]
  },
  {
   "cell_type": "code",
   "execution_count": null,
   "metadata": {},
   "outputs": [],
   "source": [
    "# Exercise 4: Special Methods"
   ]
  },
  {
   "cell_type": "code",
   "execution_count": 22,
   "metadata": {},
   "outputs": [],
   "source": [
    "class Rectangle:\n",
    "    def __init__(self, length, breadth):\n",
    "        self.length = length\n",
    "        self.breadth = breadth\n",
    "    def area(self):\n",
    "        return self.length * self.breadth\n",
    "    def __str__(self):\n",
    "        return f\"Rectangle: Length={self.length}, Breadth={self.breadth}, Area={self.area()}\"\n"
   ]
  },
  {
   "cell_type": "code",
   "execution_count": 23,
   "metadata": {},
   "outputs": [
    {
     "name": "stdout",
     "output_type": "stream",
     "text": [
      "Rectangle: Length=5, Breadth=4, Area=20\n"
     ]
    }
   ],
   "source": [
    "class Rectangle:\n",
    "    def __init__(self, length, breadth):\n",
    "        self.length = length\n",
    "        self.breadth = breadth\n",
    "    def area(self):\n",
    "        return self.length * self.breadth\n",
    "    def __str__(self):\n",
    "        return f\"Rectangle: Length={self.length}, Breadth={self.breadth}, Area={self.area()}\"\n",
    "rect = Rectangle(5, 4)\n",
    "print(rect)"
   ]
  },
  {
   "cell_type": "code",
   "execution_count": null,
   "metadata": {},
   "outputs": [],
   "source": [
    "# Exercise 5: Static Methods in Practice"
   ]
  },
  {
   "cell_type": "code",
   "execution_count": 28,
   "metadata": {},
   "outputs": [],
   "source": [
    "class MathOperations: \n",
    "    @staticmethod\n",
    "    def add(x, y):\n",
    "        return x + y;\n",
    "    @staticmethod\n",
    "    def subtract(x, y):\n",
    "        return x - y;\n"
   ]
  },
  {
   "cell_type": "code",
   "execution_count": 38,
   "metadata": {},
   "outputs": [
    {
     "name": "stdout",
     "output_type": "stream",
     "text": [
      "Result of subtracting 5 from 10: 5\n"
     ]
    }
   ],
   "source": [
    "class MathOperations:\n",
    "    @staticmethod\n",
    "    def subtract(x, y):\n",
    "        return x - y\n",
    "result = MathOperations.subtract(10, 5)\n",
    "print(\"Result of subtracting 5 from 10:\", result)\n"
   ]
  },
  {
   "cell_type": "code",
   "execution_count": null,
   "metadata": {},
   "outputs": [],
   "source": [
    "# Additional Exercises"
   ]
  },
  {
   "cell_type": "code",
   "execution_count": null,
   "metadata": {},
   "outputs": [],
   "source": [
    "# Using Special Methods"
   ]
  },
  {
   "cell_type": "code",
   "execution_count": null,
   "metadata": {},
   "outputs": [],
   "source": [
    "# Class with Static Method"
   ]
  },
  {
   "cell_type": "code",
   "execution_count": 42,
   "metadata": {},
   "outputs": [],
   "source": [
    "class Calculator:\n",
    "    @staticmethod\n",
    "    def add(a, b):\n",
    "        \"\"\"Static method to add two numbers.\"\"\"\n",
    "        return a + b\n",
    "    @staticmethod\n",
    "    def multiply(a, b):\n",
    "        \"\"\"Static method to multiply two numbers.\"\"\"\n",
    "        return a * b"
   ]
  },
  {
   "cell_type": "code",
   "execution_count": 43,
   "metadata": {},
   "outputs": [
    {
     "name": "stdout",
     "output_type": "stream",
     "text": [
      "Addition Result: 8\n",
      "Multiplication Result: 15\n"
     ]
    }
   ],
   "source": [
    "result_add = Calculator.add(5, 3)\n",
    "print(\"Addition Result:\", result_add)\n",
    "result_multiply = Calculator.multiply(5, 3)\n",
    "print(\"Multiplication Result:\", result_multiply)\n"
   ]
  },
  {
   "cell_type": "code",
   "execution_count": null,
   "metadata": {},
   "outputs": [],
   "source": []
  }
 ],
 "metadata": {
  "kernelspec": {
   "display_name": "Python 3",
   "language": "python",
   "name": "python3"
  },
  "language_info": {
   "codemirror_mode": {
    "name": "ipython",
    "version": 3
   },
   "file_extension": ".py",
   "mimetype": "text/x-python",
   "name": "python",
   "nbconvert_exporter": "python",
   "pygments_lexer": "ipython3",
   "version": "3.11.4"
  }
 },
 "nbformat": 4,
 "nbformat_minor": 2
}
