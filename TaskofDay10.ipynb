{
 "cells": [
  {
   "cell_type": "code",
   "execution_count": null,
   "metadata": {},
   "outputs": [],
   "source": [
    "# Task – 10"
   ]
  },
  {
   "cell_type": "code",
   "execution_count": 1,
   "metadata": {},
   "outputs": [
    {
     "name": "stdout",
     "output_type": "stream",
     "text": [
      "1.26.4\n"
     ]
    }
   ],
   "source": [
    "import numpy as np\n",
    "print (np.__version__)"
   ]
  },
  {
   "cell_type": "code",
   "execution_count": 2,
   "metadata": {},
   "outputs": [
    {
     "name": "stdout",
     "output_type": "stream",
     "text": [
      "[0. 0. 0. 0. 0. 0. 0. 0.]\n"
     ]
    }
   ],
   "source": [
    "# Exercise Set for Creating Arrays\n",
    "\n",
    "import numpy as np\n",
    "\n",
    "array_zeros = np.zeros(8)\n",
    "print(array_zeros)\n"
   ]
  },
  {
   "cell_type": "code",
   "execution_count": 3,
   "metadata": {},
   "outputs": [
    {
     "name": "stdout",
     "output_type": "stream",
     "text": [
      "[10 11 12 13 14 15 16 17 18 19 20 21 22 23 24 25 26 27 28 29 30 31 32 33\n",
      " 34 35 36 37 38 39 40 41 42 43 44 45 46 47 48 49 50]\n"
     ]
    }
   ],
   "source": [
    "import numpy as np\n",
    "\n",
    "array_numbers = np.arange(10, 51)\n",
    "print(array_numbers)"
   ]
  },
  {
   "cell_type": "code",
   "execution_count": 11,
   "metadata": {},
   "outputs": [
    {
     "name": "stdout",
     "output_type": "stream",
     "text": [
      "[[0 1 2]\n",
      " [3 4 5]\n",
      " [6 7 8]]\n"
     ]
    }
   ],
   "source": [
    "import numpy as np\n",
    "\n",
    "array_matrix = np.arange(9).reshape(3, 3)\n",
    "print(array_matrix)"
   ]
  },
  {
   "cell_type": "code",
   "execution_count": 10,
   "metadata": {},
   "outputs": [
    {
     "name": "stdout",
     "output_type": "stream",
     "text": [
      "[0 1 2]\n",
      "[3 4 5]\n",
      "[6 7 8]\n"
     ]
    }
   ],
   "source": [
    "import numpy as np\n",
    "a = np.array([0,1,2])\n",
    "b = np.array([3,4,5])\n",
    "c = np.array([6,7,8])\n",
    "print (a)\n",
    "print (b)\n",
    "print (c)"
   ]
  },
  {
   "cell_type": "code",
   "execution_count": 12,
   "metadata": {},
   "outputs": [
    {
     "name": "stdout",
     "output_type": "stream",
     "text": [
      "2\n"
     ]
    }
   ],
   "source": [
    "# Exercise Set for Array Indexing and Slicing\n",
    "\n",
    "a = np.array([0,1,2])\n",
    "print (a[2])"
   ]
  },
  {
   "cell_type": "code",
   "execution_count": 13,
   "metadata": {},
   "outputs": [
    {
     "name": "stdout",
     "output_type": "stream",
     "text": [
      "[3 4 5]\n"
     ]
    }
   ],
   "source": [
    "a = np.array([0,1,2])\n",
    "b = np.array([3,4,5])\n",
    "c = np.array([6,7,8])\n",
    "print (b)"
   ]
  },
  {
   "cell_type": "code",
   "execution_count": 14,
   "metadata": {},
   "outputs": [
    {
     "name": "stdout",
     "output_type": "stream",
     "text": [
      "[3 4 5]\n"
     ]
    }
   ],
   "source": [
    "import numpy as np\n",
    "\n",
    "array_matrix = np.arange(9).reshape(3, 3)\n",
    "second_row = array_matrix[1] \n",
    "print(second_row)"
   ]
  },
  {
   "cell_type": "code",
   "execution_count": 15,
   "metadata": {},
   "outputs": [
    {
     "name": "stdout",
     "output_type": "stream",
     "text": [
      "Original Matrix:\n",
      "[[ 0  1  2  3]\n",
      " [ 4  5  6  7]\n",
      " [ 8  9 10 11]\n",
      " [12 13 14 15]]\n",
      "\n",
      "Result after slicing:\n",
      "[[2 3]\n",
      " [6 7]]\n"
     ]
    }
   ],
   "source": [
    "import numpy as np\n",
    "\n",
    "matrix = np.arange(16).reshape(4, 4)\n",
    "print(\"Original Matrix:\")\n",
    "print(matrix)\n",
    "\n",
    "result = matrix[:2, 2:]\n",
    "print(\"\\nResult after slicing:\")\n",
    "print(result)\n"
   ]
  },
  {
   "cell_type": "code",
   "execution_count": 16,
   "metadata": {},
   "outputs": [
    {
     "name": "stdout",
     "output_type": "stream",
     "text": [
      "[1, 2, 3]\n"
     ]
    }
   ],
   "source": [
    "# Exercise Set for Data Types\n",
    "\n",
    "array = [1.1, 2.2, 3.3]\n",
    "int_array = [int(element) for element in array]\n",
    "\n",
    "print(int_array)\n"
   ]
  },
  {
   "cell_type": "code",
   "execution_count": 21,
   "metadata": {},
   "outputs": [
    {
     "name": "stdout",
     "output_type": "stream",
     "text": [
      "[1.0, 2.0, 3.0]\n"
     ]
    }
   ],
   "source": [
    "array = [1, 2, 3]\n",
    "float_array = [float(element) for element in array]\n",
    "print (float_array)\n"
   ]
  },
  {
   "cell_type": "code",
   "execution_count": 22,
   "metadata": {},
   "outputs": [
    {
     "name": "stdout",
     "output_type": "stream",
     "text": [
      "[ 5 15 25 35 45]\n",
      "[10 20 25 35 45]\n"
     ]
    }
   ],
   "source": [
    "# Exercise Set for Copy vs View\n",
    "\n",
    "a = np.array([5,15,25,35,45])\n",
    "b = a.copy()\n",
    "b[0] = 10\n",
    "b[1] = 20\n",
    "print (a)\n",
    "print (b)"
   ]
  },
  {
   "cell_type": "code",
   "execution_count": 25,
   "metadata": {},
   "outputs": [
    {
     "name": "stdout",
     "output_type": "stream",
     "text": [
      "[ 5 15 25 35 45]\n",
      "[ 5 15 25 35 45]\n"
     ]
    }
   ],
   "source": [
    "a = np.array([5,15,25,35,45])\n",
    "c = a.view()\n",
    "c[0] = 11\n",
    "c[1] = 21\n",
    "print (a)\n",
    "print (c)\n"
   ]
  },
  {
   "cell_type": "code",
   "execution_count": 48,
   "metadata": {},
   "outputs": [
    {
     "name": "stdout",
     "output_type": "stream",
     "text": [
      "Original 2x6 matrix:\n",
      "[[ 0  1  2  3  4  5]\n",
      " [ 6  7  8  9 10 11]]\n",
      "\n",
      "Reshaped 3x4 matrix:\n",
      "[[ 0  1  2  3]\n",
      " [ 4  5  6  7]\n",
      " [ 8  9 10 11]]\n"
     ]
    }
   ],
   "source": [
    "# Exercise Set for Array Shape and Reshape\n",
    "\n",
    "import numpy as np\n",
    "\n",
    "matrix = np.arange(12).reshape(2, 6)\n",
    "\n",
    "reshaped_matrix = matrix.reshape(3, 4)\n",
    "\n",
    "print(\"Original 2x6 matrix:\")\n",
    "print(matrix)\n",
    "print(\"\\nReshaped 3x4 matrix:\")\n",
    "print(reshaped_matrix)\n"
   ]
  },
  {
   "cell_type": "code",
   "execution_count": 52,
   "metadata": {},
   "outputs": [
    {
     "name": "stdout",
     "output_type": "stream",
     "text": [
      "Original array of 12 random numbers:\n",
      "[  5  15  25  35  45  55  65  75  85  95 105 115]\n",
      "\n",
      "Reshaped 3D array of dimensions 2x2x3:\n",
      "[[[  5  15  25]\n",
      "  [ 35  45  55]]\n",
      "\n",
      " [[ 65  75  85]\n",
      "  [ 95 105 115]]]\n"
     ]
    }
   ],
   "source": [
    "import numpy as np\n",
    "\n",
    "a = np.array([5,15,25,35,45,55, 65, 75, 85, 95, 105, 115])\n",
    "reshaped_array = a.reshape(2, 2, 3)\n",
    "print(\"Original array of 12 random numbers:\")\n",
    "print(a)\n",
    "print(\"\\nReshaped 3D array of dimensions 2x2x3:\")\n",
    "print(reshaped_array)\n"
   ]
  },
  {
   "cell_type": "code",
   "execution_count": 56,
   "metadata": {},
   "outputs": [
    {
     "name": "stdout",
     "output_type": "stream",
     "text": [
      "1\n",
      "2\n",
      "3\n",
      "4\n",
      "5\n",
      "6\n",
      "7\n",
      "8\n",
      "9\n"
     ]
    }
   ],
   "source": [
    "# Exercise Set for Array Iterating\n",
    "\n",
    "import numpy as np\n",
    "\n",
    "a = np.array([[1, 2, 3],\n",
    "              [4, 5, 6],\n",
    "              [7, 8, 9]])\n",
    "for row in a : \n",
    "    for item in row:\n",
    "        print (item)"
   ]
  },
  {
   "cell_type": "code",
   "execution_count": 64,
   "metadata": {},
   "outputs": [
    {
     "name": "stdout",
     "output_type": "stream",
     "text": [
      "5\n",
      "15\n",
      "25\n",
      "35\n",
      "45\n",
      "55\n",
      "65\n",
      "75\n",
      "85\n",
      "95\n",
      "105\n",
      "115\n"
     ]
    }
   ],
   "source": [
    "import numpy as np\n",
    "\n",
    "a = np.array([5,15,25,35,45,55, 65, 75, 85, 95, 105, 115])\n",
    "for x in np.nditer(a):\n",
    "    print (x)\n"
   ]
  },
  {
   "cell_type": "code",
   "execution_count": 65,
   "metadata": {},
   "outputs": [
    {
     "name": "stdout",
     "output_type": "stream",
     "text": [
      "[1 2 3 4 5 6 7]\n"
     ]
    }
   ],
   "source": [
    "# Exercise Set for Array Join\n",
    "\n",
    "import numpy as np\n",
    "\n",
    "x = np.array([1, 2, 3])\n",
    "y = np.array([4, 5, 6, 7])\n",
    "\n",
    "z = np.concatenate((x, y))\n",
    "\n",
    "print (z)\n"
   ]
  },
  {
   "cell_type": "code",
   "execution_count": 71,
   "metadata": {},
   "outputs": [
    {
     "name": "stdout",
     "output_type": "stream",
     "text": [
      "Array 1:\n",
      "[[1 2 3]\n",
      " [4 5 6]]\n",
      "\n",
      "Array 2:\n",
      "[[ 7  8  9]\n",
      " [10 11 12]]\n",
      "\n",
      "Vertically Stacked Array:\n",
      "[[ 1  2  3]\n",
      " [ 4  5  6]\n",
      " [ 7  8  9]\n",
      " [10 11 12]]\n"
     ]
    }
   ],
   "source": [
    "import numpy as np\n",
    "\n",
    "x = np.array([[1, 2, 3],[4, 5, 6]])\n",
    "y = np.array([[7, 8, 9],[10, 11, 12]])\n",
    "stacked_array = np.vstack((x, y))\n",
    "\n",
    "print(\"Array 1:\")\n",
    "print(x)\n",
    "print(\"\\nArray 2:\")\n",
    "print(y)\n",
    "print(\"\\nVertically Stacked Array:\")\n",
    "print(stacked_array)\n"
   ]
  },
  {
   "cell_type": "code",
   "execution_count": 72,
   "metadata": {},
   "outputs": [
    {
     "name": "stdout",
     "output_type": "stream",
     "text": [
      "[array([5, 6, 7, 8]), array([ 9, 10, 11, 12]), array([13, 14, 15])]\n"
     ]
    }
   ],
   "source": [
    "# Exercise Set for Array Split\n",
    "\n",
    "a = np.array ([5, 6, 7, 8, 9, 10, 11, 12, 13, 14, 15])\n",
    "new_arrays = np.array_split(a, 3)\n",
    "print (new_arrays)"
   ]
  },
  {
   "cell_type": "code",
   "execution_count": 82,
   "metadata": {},
   "outputs": [
    {
     "name": "stdout",
     "output_type": "stream",
     "text": [
      "[array([[ 0,  1],\n",
      "       [ 4,  5],\n",
      "       [ 8,  9],\n",
      "       [12, 13]]), array([[ 2,  3],\n",
      "       [ 6,  7],\n",
      "       [10, 11],\n",
      "       [14, 15]])]\n"
     ]
    }
   ],
   "source": [
    "import numpy as np\n",
    "\n",
    "# Create a 4x4 matrix\n",
    "matrix = np.array([[0, 1, 2, 3], \n",
    "                   [4, 5, 6, 7], \n",
    "                   [8, 9, 10, 11], \n",
    "                   [12, 13, 14, 15]])\n",
    "\n",
    "# Horizontally split the matrix into 2 equal parts\n",
    "hsplit_result = np.hsplit(matrix, 2)\n",
    "\n",
    "print(hsplit_result)\n"
   ]
  },
  {
   "cell_type": "code",
   "execution_count": 3,
   "metadata": {},
   "outputs": [
    {
     "name": "stdout",
     "output_type": "stream",
     "text": [
      "Elements greater than 5: (array([1, 3, 4, 6, 9], dtype=int64),)\n"
     ]
    }
   ],
   "source": [
    "# Exercise Set for Array Search\n",
    "\n",
    "import numpy as np\n",
    "a = np.array([2, 7, 3, 8, 6, 1, 9, 4, 5, 10])\n",
    "result = np.where(arr > 5)\n",
    "print(\"Elements greater than 5:\", result)\n"
   ]
  },
  {
   "cell_type": "code",
   "execution_count": 4,
   "metadata": {},
   "outputs": [
    {
     "name": "stdout",
     "output_type": "stream",
     "text": [
      "Indices of non-zero elements: (array([1, 3, 5], dtype=int64),)\n"
     ]
    }
   ],
   "source": [
    "import numpy as np\n",
    "a = np.array([0, 3, 0, 7, 0, 9, 0])\n",
    "\n",
    "# Use np.nonzero to find indices of all non-zero elements\n",
    "nonzero_result = np.nonzero(a)\n",
    "\n",
    "print(\"Indices of non-zero elements:\", nonzero_result)\n"
   ]
  },
  {
   "cell_type": "code",
   "execution_count": 7,
   "metadata": {},
   "outputs": [
    {
     "name": "stdout",
     "output_type": "stream",
     "text": [
      "Original array: [10  6  4  8  2  7  1  9  3  5]\n",
      "Sorted array: [ 1  2  3  4  5  6  7  8  9 10]\n"
     ]
    }
   ],
   "source": [
    "# Exercise Set for Array Sort\n",
    "\n",
    "import numpy as np\n",
    "\n",
    "a = np.array ([10, 6, 4, 8, 2, 7, 1, 9, 3, 5])\n",
    "\n",
    "arr_sorted = np.sort(a)\n",
    "\n",
    "print(\"Original array:\", a)\n",
    "print(\"Sorted array:\", arr_sorted)\n"
   ]
  },
  {
   "cell_type": "code",
   "execution_count": 11,
   "metadata": {},
   "outputs": [
    {
     "name": "stdout",
     "output_type": "stream",
     "text": [
      "Original Matrix:\n",
      "[[3 1 5]\n",
      " [9 2 4]\n",
      " [7 6 8]]\n",
      "\n",
      "Sorted Matrix (each row in descending order):\n",
      "[[5 3 1]\n",
      " [9 4 2]\n",
      " [8 7 6]]\n"
     ]
    }
   ],
   "source": [
    "import numpy as np\n",
    "\n",
    "matrix = np.array([[3, 1, 5],\n",
    "                   [9, 2, 4],\n",
    "                   [7, 6, 8]])\n",
    "\n",
    "sorted_matrix = np.sort(matrix, axis=1)[:, ::-1]\n",
    "\n",
    "print(\"Original Matrix:\")\n",
    "print(matrix)\n",
    "\n",
    "print(\"\\nSorted Matrix (each row in descending order):\")\n",
    "print(sorted_matrix)\n"
   ]
  },
  {
   "cell_type": "code",
   "execution_count": 12,
   "metadata": {},
   "outputs": [
    {
     "name": "stdout",
     "output_type": "stream",
     "text": [
      "Original array:\n",
      "[16 25 27 10  8  4 90 93 23 87 99 32 67 43 21]\n",
      "\n",
      "Filtered array (even numbers only):\n",
      "[16 10  8  4 90 32]\n"
     ]
    }
   ],
   "source": [
    "# Exercise Set for Array Filter\n",
    "\n",
    "import numpy as np\n",
    "\n",
    "a = np.array([16, 25, 27, 10, 8, 4, 90, 93, 23, 87, 99, 32, 67, 43, 21])\n",
    "\n",
    "# Use boolean indexing to filter out all odd numbers\n",
    "even_numbers = a[a % 2 == 0]\n",
    "\n",
    "print(\"Original array:\")\n",
    "print(a)\n",
    "\n",
    "print(\"\\nFiltered array (even numbers only):\")\n",
    "print(even_numbers)\n"
   ]
  },
  {
   "cell_type": "code",
   "execution_count": 16,
   "metadata": {},
   "outputs": [
    {
     "name": "stdout",
     "output_type": "stream",
     "text": [
      "Original array:\n",
      "[4 5 6]\n"
     ]
    }
   ],
   "source": [
    "import numpy as np\n",
    "\n",
    "a = np.array([1, 2, 3, 4, 5, 6])\n",
    "filter = a > 3\n",
    "result  = a[filter]\n",
    "print(result)"
   ]
  },
  {
   "cell_type": "code",
   "execution_count": 18,
   "metadata": {},
   "outputs": [
    {
     "name": "stdout",
     "output_type": "stream",
     "text": [
      "[[87 43 85 14 82 70 14 24 45 35 56  5  0 86 92]]\n"
     ]
    }
   ],
   "source": [
    "# Exercise Set for Random\n",
    "\n",
    "a = np.random.randint(100, size=(1, 15))\n",
    "print (a)"
   ]
  },
  {
   "cell_type": "code",
   "execution_count": 19,
   "metadata": {},
   "outputs": [
    {
     "name": "stdout",
     "output_type": "stream",
     "text": [
      "3x3 Matrix with random floats between 0 and 1:\n",
      "[[0.26910885 0.59835596 0.84714694]\n",
      " [0.91457232 0.77080962 0.8754916 ]\n",
      " [0.33919779 0.70460168 0.00465513]]\n"
     ]
    }
   ],
   "source": [
    "import numpy as np\n",
    "\n",
    "random_matrix = np.random.rand(3, 3)\n",
    "\n",
    "print(\"3x3 Matrix with random floats between 0 and 1:\")\n",
    "print(random_matrix)\n"
   ]
  },
  {
   "cell_type": "code",
   "execution_count": 22,
   "metadata": {},
   "outputs": [
    {
     "name": "stdout",
     "output_type": "stream",
     "text": [
      "Array 1:\n",
      "[[1 2 3]\n",
      " [4 5 6]]\n",
      "\n",
      "Array 2:\n",
      "[[ 7  8  9]\n",
      " [10 11 12]]\n",
      "\n",
      "Result of element-wise addition:\n",
      "[[ 8 10 12]\n",
      " [14 16 18]]\n"
     ]
    }
   ],
   "source": [
    "# Exercise Set for Operations and Broadcasting\n",
    "\n",
    "import numpy as np\n",
    "\n",
    "a = np.array([[1, 2, 3],\n",
    "             [4, 5, 6]])\n",
    "\n",
    "b = np.array([[7, 8, 9],\n",
    "                [10, 11, 12]])\n",
    "sum = a + b\n",
    "\n",
    "print(\"Array 1:\")\n",
    "print(a)\n",
    "\n",
    "print(\"\\nArray 2:\")\n",
    "print(b)\n",
    "\n",
    "print(\"\\nResult of element-wise addition:\")\n",
    "print(sum)\n"
   ]
  },
  {
   "cell_type": "code",
   "execution_count": 23,
   "metadata": {},
   "outputs": [
    {
     "name": "stdout",
     "output_type": "stream",
     "text": [
      "Array 1:\n",
      "[1 2 3 4]\n",
      "\n",
      "Array 2:\n",
      "[[10]\n",
      " [20]\n",
      " [30]\n",
      " [40]]\n",
      "\n",
      "Result of broadcasting addition:\n",
      "[[11 12 13 14]\n",
      " [21 22 23 24]\n",
      " [31 32 33 34]\n",
      " [41 42 43 44]]\n"
     ]
    }
   ],
   "source": [
    "import numpy as np\n",
    "\n",
    "# Create an array of shape (4,)\n",
    "array1 = np.array([1, 2, 3, 4])\n",
    "\n",
    "# Create an array of shape (4, 1)\n",
    "array2 = np.array([[10],\n",
    "                   [20],\n",
    "                   [30],\n",
    "                   [40]])\n",
    "\n",
    "# Use broadcasting to add the arrays\n",
    "result_array = array1 + array2\n",
    "\n",
    "print(\"Array 1:\")\n",
    "print(array1)\n",
    "\n",
    "print(\"\\nArray 2:\")\n",
    "print(array2)\n",
    "\n",
    "print(\"\\nResult of broadcasting addition:\")\n",
    "print(result_array)\n"
   ]
  }
 ],
 "metadata": {
  "kernelspec": {
   "display_name": "Python 3",
   "language": "python",
   "name": "python3"
  },
  "language_info": {
   "codemirror_mode": {
    "name": "ipython",
    "version": 3
   },
   "file_extension": ".py",
   "mimetype": "text/x-python",
   "name": "python",
   "nbconvert_exporter": "python",
   "pygments_lexer": "ipython3",
   "version": "3.11.4"
  }
 },
 "nbformat": 4,
 "nbformat_minor": 2
}
