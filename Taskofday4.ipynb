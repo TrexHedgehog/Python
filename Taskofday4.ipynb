{
 "cells": [
  {
   "cell_type": "code",
   "execution_count": null,
   "metadata": {},
   "outputs": [],
   "source": [
    "# Manipulating Strings and Characters\n",
    "# String Slicing\n",
    "\n"
   ]
  },
  {
   "cell_type": "code",
   "execution_count": 2,
   "metadata": {},
   "outputs": [
    {
     "name": "stdout",
     "output_type": "stream",
     "text": [
      "Length of the string: 21\n"
     ]
    }
   ],
   "source": [
    "#String Length\n",
    "string = \"Cover me in Sunshine!\"\n",
    "\n",
    "length_of_string = len(string)\n",
    "\n",
    "print(\"Length of the string:\", length_of_string)\n"
   ]
  },
  {
   "cell_type": "code",
   "execution_count": 1,
   "metadata": {},
   "outputs": [
    {
     "name": "stdout",
     "output_type": "stream",
     "text": [
      "Hey I am not IRON MAN\n"
     ]
    }
   ],
   "source": [
    "#Introduction to Strings in Python\n",
    "# String Creation and Display\n",
    "\n",
    "my_string = \"Hey I am not IRON MAN\"\n",
    "print(my_string)\n"
   ]
  }
 ],
 "metadata": {
  "kernelspec": {
   "display_name": "Python 3",
   "language": "python",
   "name": "python3"
  },
  "language_info": {
   "codemirror_mode": {
    "name": "ipython",
    "version": 3
   },
   "file_extension": ".py",
   "mimetype": "text/x-python",
   "name": "python",
   "nbconvert_exporter": "python",
   "pygments_lexer": "ipython3",
   "version": "3.11.4"
  }
 },
 "nbformat": 4,
 "nbformat_minor": 2
}
