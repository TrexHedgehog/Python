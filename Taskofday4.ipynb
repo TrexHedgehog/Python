{
 "cells": [
  {
   "cell_type": "code",
   "execution_count": 33,
   "metadata": {},
   "outputs": [
    {
     "name": "stdout",
     "output_type": "stream",
     "text": [
      "['apple', 'banana', 'blueberry']\n"
     ]
    }
   ],
   "source": [
    "# Exploring Python's Built-in Functions : Sorting Strings with sorted\n",
    "\n",
    "fruits = ['blueberry', 'apple', 'banana']\n",
    "sorted_fruits = sorted(fruits)\n",
    "print(sorted_fruits)\n"
   ]
  },
  {
   "cell_type": "code",
   "execution_count": 32,
   "metadata": {},
   "outputs": [
    {
     "name": "stdout",
     "output_type": "stream",
     "text": [
      "[16, 25]\n"
     ]
    }
   ],
   "source": [
    "# Exploring Python's Built-in Functions : Filtering with filter\n",
    "\n",
    "def filter_squares_greater_than_10(num):\n",
    "    return num > 10\n",
    "squared_numbers = [1, 4, 9, 16, 25]\n",
    "filtered_squares = list(filter(filter_squares_greater_than_10, squared_numbers))\n",
    "print(filtered_squares)\n"
   ]
  },
  {
   "cell_type": "code",
   "execution_count": 28,
   "metadata": {},
   "outputs": [
    {
     "name": "stdout",
     "output_type": "stream",
     "text": [
      "[1, 4, 9, 16, 25]\n"
     ]
    }
   ],
   "source": [
    "# Exploring Python's Built-in Functions : Squaring Numbers with map\n",
    "\n",
    "my_list = [1, 2, 3, 4, 5]\n",
    "\n",
    "squared_numbers = list(map(lambda x: x ** 2, my_list))\n",
    "\n",
    "print(squared_numbers)\n"
   ]
  },
  {
   "cell_type": "code",
   "execution_count": 27,
   "metadata": {},
   "outputs": [
    {
     "name": "stdout",
     "output_type": "stream",
     "text": [
      "8\n"
     ]
    }
   ],
   "source": [
    "# Understanding ‘def’ and ‘lambda’: Lambda Function for Addition\n",
    "\n",
    "sum = lambda x, y: x + y\n",
    "result = sum(3, 5)\n",
    "print(result) "
   ]
  },
  {
   "cell_type": "code",
   "execution_count": 26,
   "metadata": {},
   "outputs": [
    {
     "name": "stdout",
     "output_type": "stream",
     "text": [
      "Hello, Ashley!\n"
     ]
    }
   ],
   "source": [
    "# Understanding ‘def’ and ‘lambda’ :  Defining a Greeting Function\n",
    "def greet (name):\n",
    "    return f\"Hello, {name}!\"\n",
    "print (greet(\"Ashley\" ))"
   ]
  },
  {
   "cell_type": "code",
   "execution_count": 21,
   "metadata": {},
   "outputs": [
    {
     "name": "stdout",
     "output_type": "stream",
     "text": [
      "The length of the string is: 13\n"
     ]
    }
   ],
   "source": [
    "# Introduction to Functions in Python : Function to Calculate Factorial\n",
    "def string_length():\n",
    "    string = \"Hello, World!\"\n",
    "    length = len(string)\n",
    "    print(\"The length of the string is:\", length)\n",
    "string_length()\n"
   ]
  },
  {
   "cell_type": "code",
   "execution_count": 18,
   "metadata": {},
   "outputs": [
    {
     "name": "stdout",
     "output_type": "stream",
     "text": [
      "Learning Python is fun!\n"
     ]
    }
   ],
   "source": [
    "# Introduction to Functions in Python : Function to Check Prime Number\n",
    "def display_message():\n",
    "  message = \"Learning Python is fun!\"\n",
    "  print(message)\n",
    "display_message()\n"
   ]
  },
  {
   "cell_type": "code",
   "execution_count": 15,
   "metadata": {},
   "outputs": [
    {
     "name": "stdout",
     "output_type": "stream",
     "text": [
      "Yes, it's a palindrome!\n"
     ]
    }
   ],
   "source": [
    "# Manipulating Strings and Characters : Palindrome Check\n",
    "\n",
    "def is_palindrome(s):\n",
    "    s = s.lower()\n",
    "    s = ''.join(char for char in s if char.isalnum())\n",
    "    return s == s[::-1]\n",
    "string_to_check = input(\"Enter a string to check if it's a palindrome: \")\n",
    "if is_palindrome(string_to_check):\n",
    "    print(\"Yes, it's a palindrome!\")\n",
    "else:\n",
    "    print(\"No, it's not a palindrome.\")\n"
   ]
  },
  {
   "cell_type": "code",
   "execution_count": 11,
   "metadata": {},
   "outputs": [
    {
     "name": "stdout",
     "output_type": "stream",
     "text": [
      "ASHLEY_JOHN\n"
     ]
    }
   ],
   "source": [
    "# Manipulating Strings and Characters : String Methods\n",
    "\n",
    "original_string = \"ashley john\"\n",
    "\n",
    "uppercase_string = original_string.upper()\n",
    "\n",
    "final_string = uppercase_string.replace(\" \", \"_\")\n",
    "\n",
    "print(final_string)\n"
   ]
  },
  {
   "cell_type": "code",
   "execution_count": 10,
   "metadata": {},
   "outputs": [
    {
     "name": "stdout",
     "output_type": "stream",
     "text": [
      "other\n"
     ]
    }
   ],
   "source": [
    "# Manipulating Strings and Characters : String Slicing\n",
    "\n",
    "original_string = \"Hello, from the other side\"\n",
    "sliced_string = original_string[16:21]\n",
    "print(sliced_string)\n",
    "\n"
   ]
  },
  {
   "cell_type": "code",
   "execution_count": 2,
   "metadata": {},
   "outputs": [
    {
     "name": "stdout",
     "output_type": "stream",
     "text": [
      "Length of the string: 21\n"
     ]
    }
   ],
   "source": [
    "#String Length\n",
    "string = \"Cover me in Sunshine!\"\n",
    "\n",
    "length_of_string = len(string)\n",
    "\n",
    "print(\"Length of the string:\", length_of_string)\n"
   ]
  },
  {
   "cell_type": "code",
   "execution_count": 1,
   "metadata": {},
   "outputs": [
    {
     "name": "stdout",
     "output_type": "stream",
     "text": [
      "Hey I am not IRON MAN\n"
     ]
    }
   ],
   "source": [
    "#Introduction to Strings in Python\n",
    "# String Creation and Display\n",
    "\n",
    "my_string = \"Hey I am not IRON MAN\"\n",
    "print(my_string)\n"
   ]
  }
 ],
 "metadata": {
  "kernelspec": {
   "display_name": "Python 3",
   "language": "python",
   "name": "python3"
  },
  "language_info": {
   "codemirror_mode": {
    "name": "ipython",
    "version": 3
   },
   "file_extension": ".py",
   "mimetype": "text/x-python",
   "name": "python",
   "nbconvert_exporter": "python",
   "pygments_lexer": "ipython3",
   "version": "3.11.4"
  }
 },
 "nbformat": 4,
 "nbformat_minor": 2
}
