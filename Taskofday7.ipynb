{
 "cells": [
  {
   "cell_type": "code",
   "execution_count": null,
   "metadata": {},
   "outputs": [],
   "source": [
    "# Task - 7"
   ]
  },
  {
   "cell_type": "code",
   "execution_count": 5,
   "metadata": {},
   "outputs": [
    {
     "name": "stdout",
     "output_type": "stream",
     "text": [
      "Square of 4.0 is 16.0\n",
      "Square of 5.0 is 25.0\n",
      "Square of 3.0 is 9.0\n",
      "Square of 9.0 is 81.0\n",
      "Exiting program...\n"
     ]
    }
   ],
   "source": [
    "# Exercise 1: Exception Handling in User Input\n",
    "\n",
    "while True:\n",
    "    try:\n",
    "        user_input = input(\"Enter a number or type 'quit' to exit: \")\n",
    "        if user_input.lower() == 'quit':\n",
    "            print(\"Exiting program...\")\n",
    "            break\n",
    "        number = float(user_input)\n",
    "        square = number ** 2\n",
    "        print(\"Square of\", number, \"is\", square)\n",
    "    except ValueError:\n",
    "        print(\"Error: Please enter a valid number or type 'quit' to exit.\")\n"
   ]
  },
  {
   "cell_type": "code",
   "execution_count": 10,
   "metadata": {},
   "outputs": [],
   "source": [
    "# Exercise 2: File Reading and Processing\n",
    "import os\n"
   ]
  },
  {
   "cell_type": "code",
   "execution_count": 11,
   "metadata": {},
   "outputs": [
    {
     "name": "stdout",
     "output_type": "stream",
     "text": [
      "Exiting program...\n",
      "Data successfully saved to user_data.txt.\n"
     ]
    }
   ],
   "source": [
    "# Exercise 3: File Writing Exercise\n",
    "\n",
    "def main():\n",
    "    try:\n",
    "        with open(\"user_data.txt\", \"a\") as file:\n",
    "            while True:\n",
    "                user_input = input(\"Enter data (type 'EXIT' to quit): \")\n",
    "                if user_input.upper() == \"EXIT\":\n",
    "                    print(\"Exiting program...\")\n",
    "                    break\n",
    "                file.write(user_input + \"\\n\")\n",
    "            print(\"Data successfully saved to user_data.txt.\")\n",
    "    except IOError as e:\n",
    "        print(\"Error occurred while accessing the file:\", e)\n",
    "\n",
    "if __name__ == \"__main__\":\n",
    "    main()\n"
   ]
  },
  {
   "cell_type": "code",
   "execution_count": null,
   "metadata": {},
   "outputs": [],
   "source": [
    "# Exercise 4: Directory Management with os Library"
   ]
  },
  {
   "cell_type": "code",
   "execution_count": null,
   "metadata": {},
   "outputs": [],
   "source": [
    "# Exercise 5: Reading All Files and Subdirectories"
   ]
  },
  {
   "cell_type": "code",
   "execution_count": 8,
   "metadata": {},
   "outputs": [
    {
     "name": "stdout",
     "output_type": "stream",
     "text": [
      "Student Records:\n",
      "Name: Alice, ID: 1001, Grades: [85, 90, 95]\n",
      "Name: Bob, ID: 1002, Grades: [78, 85, 92]\n",
      "Name: Charlie, ID: 1003, Grades: [90, 92, 88]\n"
     ]
    }
   ],
   "source": [
    "# Exercise 6: Pickle Serialization Practice \n",
    "\n",
    "# Part A\n",
    "\n",
    "import pickle\n",
    "\n",
    "def serialize_data(data, filename):\n",
    "    with open(filename, 'wb') as file:\n",
    "        pickle.dump(data, file)\n",
    "\n",
    "student_records = [\n",
    "    {\"name\": \"Alice\", \"id\": 1001, \"grades\": [85, 90, 95]},\n",
    "    {\"name\": \"Bob\", \"id\": 1002, \"grades\": [78, 85, 92]},\n",
    "    {\"name\": \"Charlie\", \"id\": 1003, \"grades\": [90, 92, 88]}\n",
    "]\n",
    "serialize_data(student_records, \"students.pkl\")\n",
    "\n",
    "print(\"Student Records:\")\n",
    "for student in student_records:\n",
    "    print(f\"Name: {student['name']}, ID: {student['id']}, Grades: {student['grades']}\")\n"
   ]
  },
  {
   "cell_type": "code",
   "execution_count": 3,
   "metadata": {},
   "outputs": [
    {
     "name": "stdout",
     "output_type": "stream",
     "text": [
      "Student Records:\n",
      "Name: Alice, ID: 1001, Grades: [85, 90, 95]\n",
      "Name: Bob, ID: 1002, Grades: [78, 85, 92]\n",
      "Name: Charlie, ID: 1003, Grades: [90, 92, 88]\n"
     ]
    }
   ],
   "source": [
    "# Exercise 6: Pickle Serialization Practice \n",
    "\n",
    "# Part B\n",
    "\n",
    "import pickle\n",
    "\n",
    "def deserialize_data(filename):\n",
    "    with open(filename, 'rb') as file:\n",
    "        data = pickle.load(file)\n",
    "    return data\n",
    "\n",
    "students = [\n",
    "    {\"name\": \"Alice\", \"id\": 101, \"grades\": [85, 90, 95]},\n",
    "    {\"name\": \"Bob\", \"id\": 102, \"grades\": [70, 75, 80]},\n",
    "    {\"name\": \"Charlie\", \"id\": 103, \"grades\": [95, 85, 90]}\n",
    "]\n",
    "\n",
    "deserialized_students = deserialize_data(\"students.pkl\")\n",
    "\n",
    "print(\"Student Records:\")\n",
    "for student in deserialized_students:\n",
    "    print(f\"Name: {student['name']}, ID: {student['id']}, Grades: {student['grades']}\")"
   ]
  },
  {
   "cell_type": "code",
   "execution_count": 12,
   "metadata": {},
   "outputs": [
    {
     "name": "stdout",
     "output_type": "stream",
     "text": [
      "Error: Division by zero is not allowed.\n"
     ]
    }
   ],
   "source": [
    "# Exercise 7: Handling Multiple Exception Types\n",
    "\n",
    "def divide_numbers():\n",
    "    try:\n",
    "        # Get inputs from the user\n",
    "        num1 = float(input(\"Enter the first number: \"))\n",
    "        num2 = float(input(\"Enter the second number: \"))\n",
    "\n",
    "        # Divide the first number by the second number\n",
    "        result = num1 / num2\n",
    "        print(\"Result:\", result)\n",
    "\n",
    "    except ZeroDivisionError:\n",
    "        print(\"Error: Division by zero is not allowed.\")\n",
    "    except ValueError:\n",
    "        print(\"Error: Please enter numeric inputs.\")\n",
    "\n",
    "divide_numbers()\n"
   ]
  },
  {
   "cell_type": "code",
   "execution_count": null,
   "metadata": {},
   "outputs": [],
   "source": [
    "# Exercise 8: File Cleanup Tool\n",
    "\n"
   ]
  }
 ],
 "metadata": {
  "kernelspec": {
   "display_name": "Python 3",
   "language": "python",
   "name": "python3"
  },
  "language_info": {
   "codemirror_mode": {
    "name": "ipython",
    "version": 3
   },
   "file_extension": ".py",
   "mimetype": "text/x-python",
   "name": "python",
   "nbconvert_exporter": "python",
   "pygments_lexer": "ipython3",
   "version": "3.11.4"
  }
 },
 "nbformat": 4,
 "nbformat_minor": 2
}
