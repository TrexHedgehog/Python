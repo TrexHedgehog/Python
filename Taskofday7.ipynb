{
 "cells": [
  {
   "cell_type": "code",
   "execution_count": null,
   "metadata": {},
   "outputs": [],
   "source": [
    "# Task - 7"
   ]
  },
  {
   "cell_type": "code",
   "execution_count": 5,
   "metadata": {},
   "outputs": [
    {
     "name": "stdout",
     "output_type": "stream",
     "text": [
      "Square of 4.0 is 16.0\n",
      "Square of 5.0 is 25.0\n",
      "Square of 3.0 is 9.0\n",
      "Square of 9.0 is 81.0\n",
      "Exiting program...\n"
     ]
    }
   ],
   "source": [
    "# Exercise 1: Exception Handling in User Input\n",
    "\n",
    "while True:\n",
    "    try:\n",
    "        user_input = input(\"Enter a number or type 'quit' to exit: \")\n",
    "        if user_input.lower() == 'quit':\n",
    "            print(\"Exiting program...\")\n",
    "            break\n",
    "        number = float(user_input)\n",
    "        square = number ** 2\n",
    "        print(\"Square of\", number, \"is\", square)\n",
    "    except ValueError:\n",
    "        print(\"Error: Please enter a valid number or type 'quit' to exit.\")\n"
   ]
  },
  {
   "cell_type": "code",
   "execution_count": 10,
   "metadata": {},
   "outputs": [],
   "source": [
    "# Exercise 2: File Reading and Processing\n",
    "import os\n"
   ]
  },
  {
   "cell_type": "code",
   "execution_count": 11,
   "metadata": {},
   "outputs": [
    {
     "name": "stdout",
     "output_type": "stream",
     "text": [
      "Exiting program...\n",
      "Data successfully saved to user_data.txt.\n"
     ]
    }
   ],
   "source": [
    "# Exercise 3: File Writing Exercise\n",
    "\n",
    "def main():\n",
    "    try:\n",
    "        with open(\"user_data.txt\", \"a\") as file:\n",
    "            while True:\n",
    "                user_input = input(\"Enter data (type 'EXIT' to quit): \")\n",
    "                if user_input.upper() == \"EXIT\":\n",
    "                    print(\"Exiting program...\")\n",
    "                    break\n",
    "                file.write(user_input + \"\\n\")\n",
    "            print(\"Data successfully saved to user_data.txt.\")\n",
    "    except IOError as e:\n",
    "        print(\"Error occurred while accessing the file:\", e)\n",
    "\n",
    "if __name__ == \"__main__\":\n",
    "    main()\n"
   ]
  },
  {
   "cell_type": "code",
   "execution_count": null,
   "metadata": {},
   "outputs": [],
   "source": [
    "# Exercise 4: Directory Management with os Library"
   ]
  },
  {
   "cell_type": "code",
   "execution_count": null,
   "metadata": {},
   "outputs": [],
   "source": [
    "# Exercise 5: Reading All Files and Subdirectories"
   ]
  },
  {
   "cell_type": "code",
   "execution_count": null,
   "metadata": {},
   "outputs": [],
   "source": []
  }
 ],
 "metadata": {
  "kernelspec": {
   "display_name": "Python 3",
   "language": "python",
   "name": "python3"
  },
  "language_info": {
   "codemirror_mode": {
    "name": "ipython",
    "version": 3
   },
   "file_extension": ".py",
   "mimetype": "text/x-python",
   "name": "python",
   "nbconvert_exporter": "python",
   "pygments_lexer": "ipython3",
   "version": "3.11.4"
  }
 },
 "nbformat": 4,
 "nbformat_minor": 2
}
