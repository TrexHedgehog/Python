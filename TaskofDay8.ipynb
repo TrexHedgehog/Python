{
 "cells": [
  {
   "cell_type": "code",
   "execution_count": null,
   "metadata": {},
   "outputs": [],
   "source": [
    "# Task - 8"
   ]
  },
  {
   "cell_type": "code",
   "execution_count": null,
   "metadata": {},
   "outputs": [],
   "source": [
    "# Regular Expressions Exercises"
   ]
  },
  {
   "cell_type": "code",
   "execution_count": 2,
   "metadata": {},
   "outputs": [
    {
     "name": "stdout",
     "output_type": "stream",
     "text": [
      "True\n"
     ]
    }
   ],
   "source": [
    "# Exercise 1: Email Validation\n",
    "\n",
    "import re\n",
    "\n",
    "def validate_email(email):\n",
    "    return bool(re.match(r'^\\w+@\\w+\\.\\w+$', email))\n",
    "\n",
    "print(validate_email('example@test.com'))"
   ]
  },
  {
   "cell_type": "code",
   "execution_count": 3,
   "metadata": {},
   "outputs": [
    {
     "name": "stdout",
     "output_type": "stream",
     "text": [
      "['(123) 456-7890']\n"
     ]
    }
   ],
   "source": [
    "# Exercise 2: Phone Number Extraction\n",
    "\n",
    "import re\n",
    "\n",
    "text = \"Find phone number in given text (123) 456-7890\"\n",
    "number = re.findall(r'\\(\\d{3}\\) \\d{3}-\\d{4}', text)\n",
    "print(number)"
   ]
  },
  {
   "cell_type": "code",
   "execution_count": 4,
   "metadata": {},
   "outputs": [
    {
     "name": "stdout",
     "output_type": "stream",
     "text": [
      "['<div>', '<strong>', '</strong>', '<span>', '</span>', '</div>']\n"
     ]
    }
   ],
   "source": [
    "# Exercise 3: HTML Tag Extractor\n",
    "\n",
    "import re\n",
    "\n",
    "def extract_html_tags(input_string):\n",
    "    pattern = r'<[^>]*>'\n",
    "    return re.findall(pattern, input_string)\n",
    "\n",
    "# Example usage:\n",
    "html_string = \"<div>Hello <strong>from </strong> the <span> other </span>. side </div>\"\n",
    "tags = extract_html_tags(html_string)\n",
    "print(tags)\n",
    "\n"
   ]
  },
  {
   "cell_type": "code",
   "execution_count": null,
   "metadata": {},
   "outputs": [],
   "source": [
    "# Python Sets Exercises"
   ]
  },
  {
   "cell_type": "code",
   "execution_count": 6,
   "metadata": {},
   "outputs": [
    {
     "name": "stdout",
     "output_type": "stream",
     "text": [
      "{1, 2, 3, 4, 5, 7, 9}\n"
     ]
    }
   ],
   "source": [
    "# Exercise 1: Set Operations\n",
    "\n",
    "set1 =  {1, 3, 5, 7, 9}\n",
    "set2 = {1, 2, 3, 4, 5}\n",
    "print (set1.union(set2))"
   ]
  },
  {
   "cell_type": "code",
   "execution_count": 7,
   "metadata": {},
   "outputs": [
    {
     "name": "stdout",
     "output_type": "stream",
     "text": [
      "{1, 3, 5}\n"
     ]
    }
   ],
   "source": [
    "set1 =  {1, 3, 5, 7, 9}\n",
    "set2 = {1, 2, 3, 4, 5}\n",
    "print (set1.intersection(set2))"
   ]
  },
  {
   "cell_type": "code",
   "execution_count": 9,
   "metadata": {},
   "outputs": [
    {
     "name": "stdout",
     "output_type": "stream",
     "text": [
      "{9, 7}\n",
      "{2, 4}\n"
     ]
    }
   ],
   "source": [
    "set1 =  {1, 3, 5, 7, 9}\n",
    "set2 = {1, 2, 3, 4, 5}\n",
    "print(set1.difference(set2))\n",
    "print(set2.difference(set1))"
   ]
  },
  {
   "cell_type": "code",
   "execution_count": 12,
   "metadata": {},
   "outputs": [
    {
     "name": "stdout",
     "output_type": "stream",
     "text": [
      "{2, 4, 7, 9}\n"
     ]
    }
   ],
   "source": [
    "set1 =  {1, 3, 5, 7, 9}\n",
    "set2 = {1, 2, 3, 4, 5}\n",
    "print (set1.symmetric_difference(set2))"
   ]
  },
  {
   "cell_type": "code",
   "execution_count": 13,
   "metadata": {},
   "outputs": [
    {
     "name": "stdout",
     "output_type": "stream",
     "text": [
      "7\n"
     ]
    }
   ],
   "source": [
    "# Exercise 2: Unique Characters\n",
    "\n",
    "def count_unique_alphabetic_chars(string):\n",
    "    string = string.lower()\n",
    "    unique_chars = set()\n",
    "    for char in string:\n",
    "        if char.isalpha():\n",
    "            unique_chars.add(char)\n",
    "    return len(unique_chars)\n",
    "string = \"Hello, World!\"\n",
    "print(count_unique_alphabetic_chars(string))\n"
   ]
  },
  {
   "cell_type": "code",
   "execution_count": null,
   "metadata": {},
   "outputs": [],
   "source": [
    "# Stacks Exercises"
   ]
  },
  {
   "cell_type": "code",
   "execution_count": 14,
   "metadata": {},
   "outputs": [
    {
     "name": "stdout",
     "output_type": "stream",
     "text": [
      "(){}[]<>: True\n",
      "{[()]}: True\n",
      "{[(])}: False\n",
      "{{[[(())]]}}: True\n"
     ]
    }
   ],
   "source": [
    "# Exercise 1: Balanced Parentheses\n",
    "\n",
    "def is_balanced(expression):\n",
    "    stack = []\n",
    "    opening_symbols = \"({[<\"\n",
    "    closing_symbols = \")}]>\"\n",
    "    matching_symbols = {')': '(', ']': '[', '}': '{', '>': '<'}\n",
    "\n",
    "    for char in expression:\n",
    "        if char in opening_symbols:\n",
    "            stack.append(char)\n",
    "        elif char in closing_symbols:\n",
    "            if not stack or stack[-1] != matching_symbols[char]:\n",
    "                return False\n",
    "            stack.pop()\n",
    "    \n",
    "    return not stack\n",
    "\n",
    "# Test the function\n",
    "test_cases = [\"(){}[]<>\", \"{[()]}\", \"{[(])}\", \"{{[[(())]]}}\"]\n",
    "for test_case in test_cases:\n",
    "    print(f\"{test_case}: {is_balanced(test_case)}\")\n"
   ]
  },
  {
   "cell_type": "code",
   "execution_count": 15,
   "metadata": {},
   "outputs": [
    {
     "name": "stdout",
     "output_type": "stream",
     "text": [
      "Original: hello\n",
      "Reversed: olleh\n"
     ]
    }
   ],
   "source": [
    "# Exercise 2: Reverse String\n",
    "\n",
    "def reverse_string(string):\n",
    "    stack = []\n",
    "    for char in string:\n",
    "        stack.append(char)\n",
    "    \n",
    "    reversed_string = ''\n",
    "    while stack:\n",
    "        reversed_string += stack.pop()\n",
    "    \n",
    "    return reversed_string\n",
    "\n",
    "original_string = \"hello\"\n",
    "reversed_string = reverse_string(original_string)\n",
    "print(\"Original:\", original_string)\n",
    "print(\"Reversed:\", reversed_string)\n"
   ]
  }
 ],
 "metadata": {
  "kernelspec": {
   "display_name": "Python 3",
   "language": "python",
   "name": "python3"
  },
  "language_info": {
   "codemirror_mode": {
    "name": "ipython",
    "version": 3
   },
   "file_extension": ".py",
   "mimetype": "text/x-python",
   "name": "python",
   "nbconvert_exporter": "python",
   "pygments_lexer": "ipython3",
   "version": "3.11.4"
  }
 },
 "nbformat": 4,
 "nbformat_minor": 2
}
