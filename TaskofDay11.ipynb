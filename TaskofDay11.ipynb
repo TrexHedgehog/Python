{
 "cells": [
  {
   "cell_type": "code",
   "execution_count": null,
   "metadata": {},
   "outputs": [],
   "source": [
    "# Task - 11"
   ]
  },
  {
   "cell_type": "code",
   "execution_count": null,
   "metadata": {},
   "outputs": [],
   "source": [
    "# Understanding Series and DataFrames"
   ]
  },
  {
   "cell_type": "code",
   "execution_count": 1,
   "metadata": {},
   "outputs": [
    {
     "name": "stdout",
     "output_type": "stream",
     "text": [
      "Favorite Movies:\n",
      "0                   Inception\n",
      "1    The Shawshank Redemption\n",
      "2             The Dark Knight\n",
      "3                Interstellar\n",
      "4               The Godfather\n",
      "5                Pulp Fiction\n",
      "dtype: object\n"
     ]
    }
   ],
   "source": [
    "# 1. Create a Series and DataFrame:\n",
    "\n",
    "import pandas as pd\n",
    "\n",
    "favorite_movies = ['Inception', 'The Shawshank Redemption', 'The Dark Knight', 'Interstellar', 'The Godfather', 'Pulp Fiction']\n",
    "\n",
    "movies_series = pd.Series(favorite_movies)\n",
    "\n",
    "print(\"Favorite Movies:\")\n",
    "print(movies_series)\n"
   ]
  },
  {
   "cell_type": "code",
   "execution_count": 2,
   "metadata": {},
   "outputs": [
    {
     "name": "stdout",
     "output_type": "stream",
     "text": [
      "Favorite Movies with Year Released and Genre:\n",
      "                      Movie  Year Released   Genre\n",
      "0                 Inception           2010  Sci-Fi\n",
      "1  The Shawshank Redemption           1994   Drama\n",
      "2           The Dark Knight           2008  Action\n",
      "3              Interstellar           2014  Sci-Fi\n",
      "4             The Godfather           1972   Crime\n",
      "5              Pulp Fiction           1994   Crime\n"
     ]
    }
   ],
   "source": [
    "import pandas as pd\n",
    "\n",
    "favorite_movies = ['Inception', 'The Shawshank Redemption', 'The Dark Knight', 'Interstellar', 'The Godfather', 'Pulp Fiction']\n",
    "years_released = [2010, 1994, 2008, 2014, 1972, 1994]\n",
    "genres = ['Sci-Fi', 'Drama', 'Action', 'Sci-Fi', 'Crime', 'Crime']\n",
    "data = {\n",
    "    'Movie': favorite_movies,\n",
    "    'Year Released': years_released,\n",
    "    'Genre': genres\n",
    "}\n",
    "movies_df = pd.DataFrame(data)\n",
    "\n",
    "print(\"Favorite Movies with Year Released and Genre:\")\n",
    "print(movies_df)\n"
   ]
  },
  {
   "cell_type": "code",
   "execution_count": 3,
   "metadata": {},
   "outputs": [
    {
     "name": "stdout",
     "output_type": "stream",
     "text": [
      "Movies DataFrame with Classic column:\n",
      "                      Movie  Year Released   Genre Classic\n",
      "0                 Inception           2010  Sci-Fi      No\n",
      "1  The Shawshank Redemption           1994   Drama     Yes\n",
      "2           The Dark Knight           2008  Action      No\n",
      "3              Interstellar           2014  Sci-Fi      No\n",
      "4             The Godfather           1972   Crime     Yes\n",
      "5              Pulp Fiction           1994   Crime     Yes\n"
     ]
    }
   ],
   "source": [
    "# 2. Basic DataFrame Operations:\n",
    "\n",
    "import pandas as pd\n",
    "movies_df['Classic'] = movies_df['Year Released'].apply(lambda year: 'Yes' if 2024 - year > 25 else 'No')\n",
    "\n",
    "print(\"Movies DataFrame with Classic column:\")\n",
    "print(movies_df)\n"
   ]
  },
  {
   "cell_type": "code",
   "execution_count": 4,
   "metadata": {},
   "outputs": [
    {
     "name": "stdout",
     "output_type": "stream",
     "text": [
      "Movies DataFrame sorted by Year Released (descending order):\n",
      "                      Movie  Year Released   Genre Classic\n",
      "3              Interstellar           2014  Sci-Fi      No\n",
      "0                 Inception           2010  Sci-Fi      No\n",
      "2           The Dark Knight           2008  Action      No\n",
      "1  The Shawshank Redemption           1994   Drama     Yes\n",
      "5              Pulp Fiction           1994   Crime     Yes\n",
      "4             The Godfather           1972   Crime     Yes\n"
     ]
    }
   ],
   "source": [
    "import pandas as pd\n",
    "\n",
    "movies_df_sorted = movies_df.sort_values(by='Year Released', ascending=False)\n",
    "print(\"Movies DataFrame sorted by Year Released (descending order):\")\n",
    "print(movies_df_sorted)\n"
   ]
  },
  {
   "cell_type": "code",
   "execution_count": 5,
   "metadata": {},
   "outputs": [
    {
     "name": "stdout",
     "output_type": "stream",
     "text": [
      "Classic Movies:\n",
      "                      Movie  Year Released  Genre Classic\n",
      "1  The Shawshank Redemption           1994  Drama     Yes\n",
      "4             The Godfather           1972  Crime     Yes\n",
      "5              Pulp Fiction           1994  Crime     Yes\n"
     ]
    }
   ],
   "source": [
    "# 3. Data Selection:\n",
    "\n",
    "import pandas as pd\n",
    "classic_movies = movies_df[movies_df['Classic'] == 'Yes']\n",
    "\n",
    "print(\"Classic Movies:\")\n",
    "print(classic_movies)\n"
   ]
  },
  {
   "cell_type": "code",
   "execution_count": 6,
   "metadata": {},
   "outputs": [
    {
     "name": "stdout",
     "output_type": "stream",
     "text": [
      "Selected Columns ('Genre' and 'Year Released') for all movies:\n",
      "    Genre  Year Released\n",
      "0  Sci-Fi           2010\n",
      "1   Drama           1994\n",
      "2  Action           2008\n",
      "3  Sci-Fi           2014\n",
      "4   Crime           1972\n",
      "5   Crime           1994\n"
     ]
    }
   ],
   "source": [
    "import pandas as pd\n",
    "\n",
    "selected_columns = movies_df[['Genre', 'Year Released']]\n",
    "\n",
    "print(\"Selected Columns ('Genre' and 'Year Released') for all movies:\")\n",
    "print(selected_columns)\n"
   ]
  },
  {
   "cell_type": "code",
   "execution_count": null,
   "metadata": {},
   "outputs": [],
   "source": [
    "# Data Cleaning with Pandas: Handling Missing Data, Data Transformation"
   ]
  },
  {
   "cell_type": "code",
   "execution_count": 7,
   "metadata": {},
   "outputs": [
    {
     "name": "stdout",
     "output_type": "stream",
     "text": [
      "DataFrame with missing values:\n",
      "     A     B     C\n",
      "0  1.0   6.0  11.0\n",
      "1  2.0   NaN  12.0\n",
      "2  NaN   8.0  13.0\n",
      "3  4.0   NaN   NaN\n",
      "4  5.0  10.0  15.0\n"
     ]
    }
   ],
   "source": [
    "# 1. Handling Missing Values:\n",
    "\n",
    "import pandas as pd\n",
    "import numpy as np\n",
    "\n",
    "data = {\n",
    "    'A': [1, 2, np.nan, 4, 5],\n",
    "    'B': [6, np.nan, 8, np.nan, 10],\n",
    "    'C': [11, 12, 13, np.nan, 15]\n",
    "}\n",
    "\n",
    "df = pd.DataFrame(data)\n",
    "\n",
    "print(\"DataFrame with missing values:\")\n",
    "print(df)\n"
   ]
  },
  {
   "cell_type": "code",
   "execution_count": 13,
   "metadata": {},
   "outputs": [
    {
     "name": "stdout",
     "output_type": "stream",
     "text": [
      "Rows with missing values:\n",
      "     A    B     C   D\n",
      "1  2.0  NaN  12.0  17\n",
      "2  NaN  8.0  13.0  18\n",
      "3  4.0  NaN   NaN  19\n"
     ]
    }
   ],
   "source": [
    "import pandas as pd\n",
    "import numpy as np\n",
    "\n",
    "data = {\n",
    "    'A': [1, 2, np.nan, 4, 5],\n",
    "    'B': [6, np.nan, 8, np.nan, 10],\n",
    "    'C': [11, 12, 13, np.nan, 15],\n",
    "    'D': [16, 17, 18, 19, 20]\n",
    "}\n",
    "\n",
    "df = pd.DataFrame(data)\n",
    "\n",
    "rows_with_missing_values = df[df.isnull().any(axis=1)]\n",
    "\n",
    "print(\"Rows with missing values:\")\n",
    "print(rows_with_missing_values)\n"
   ]
  },
  {
   "cell_type": "code",
   "execution_count": 15,
   "metadata": {},
   "outputs": [
    {
     "name": "stdout",
     "output_type": "stream",
     "text": [
      "DataFrame after replacing missing values with column means:\n",
      "     A     B      C   D\n",
      "0  1.0   6.0  11.00  16\n",
      "1  2.0   8.0  12.00  17\n",
      "2  3.0   8.0  13.00  18\n",
      "3  4.0   8.0  12.75  19\n",
      "4  5.0  10.0  15.00  20\n"
     ]
    }
   ],
   "source": [
    "import pandas as pd\n",
    "import numpy as np\n",
    "\n",
    "data = {\n",
    "    'A': [1, 2, np.nan, 4, 5],\n",
    "    'B': [6, np.nan, 8, np.nan, 10],\n",
    "    'C': [11, 12, 13, np.nan, 15],\n",
    "    'D': [16, 17, 18, 19, 20]\n",
    "}\n",
    "\n",
    "df = pd.DataFrame(data)\n",
    "\n",
    "df_filled = df.fillna(df.mean())\n",
    "\n",
    "print(\"DataFrame after replacing missing values with column means:\")\n",
    "print(df_filled)\n"
   ]
  },
  {
   "cell_type": "code",
   "execution_count": 19,
   "metadata": {},
   "outputs": [
    {
     "name": "stdout",
     "output_type": "stream",
     "text": [
      "DataFrame with employee names transformed to uppercase:\n",
      "      Employee Names\n",
      "0        ASHLEY JOHN\n",
      "1       BIBIN JOSEPH\n",
      "2  THEO JOSEPH BIBIN\n",
      "3          TIA TITUS\n"
     ]
    }
   ],
   "source": [
    "# 2. Data Transformation Exercises:\n",
    "\n",
    "import pandas as pd\n",
    "\n",
    "data = {\n",
    "    'Employee Names': ['Ashley John', 'Bibin Joseph', 'Theo Joseph Bibin', 'Tia Titus']\n",
    "}\n",
    "\n",
    "df = pd.DataFrame(data)\n",
    "\n",
    "df['Employee Names'] = df['Employee Names'].str.upper()\n",
    "\n",
    "print(\"DataFrame with employee names transformed to uppercase:\")\n",
    "print(df)\n"
   ]
  },
  {
   "cell_type": "code",
   "execution_count": 23,
   "metadata": {},
   "outputs": [
    {
     "name": "stdout",
     "output_type": "stream",
     "text": [
      "DataFrame with 'Salary' column corrected:\n",
      "    Salary\n",
      "0  40000.0\n",
      "1  50000.0\n",
      "2  60000.0\n",
      "3  70000.0\n"
     ]
    },
    {
     "name": "stderr",
     "output_type": "stream",
     "text": [
      "C:\\Users\\johna\\AppData\\Local\\Temp\\ipykernel_25772\\1504350052.py:9: FutureWarning: The default value of regex will change from True to False in a future version. In addition, single character regular expressions will *not* be treated as literal strings when regex=True.\n",
      "  df['Salary'] = df['Salary'].str.replace('$', '').str.replace(',', '').astype(float)\n"
     ]
    }
   ],
   "source": [
    "import pandas as pd\n",
    "\n",
    "data = {\n",
    "    'Salary': ['$40,000', '$50,000', '$60,000', '$70,000']\n",
    "}\n",
    "\n",
    "df = pd.DataFrame(data)\n",
    "\n",
    "df['Salary'] = df['Salary'].str.replace('$', '').str.replace(',', '').astype(float)\n",
    "\n",
    "print(\"DataFrame with 'Salary' column corrected:\")\n",
    "print(df)\n"
   ]
  },
  {
   "cell_type": "code",
   "execution_count": 26,
   "metadata": {},
   "outputs": [
    {
     "name": "stdout",
     "output_type": "stream",
     "text": [
      "Rows where 'Year Released' is after 2000 but the genre is not 'Action':\n",
      "          Movie  Year Released   Genre\n",
      "0     Inception           2010  Sci-Fi\n",
      "3  Interstellar           2014  Sci-Fi\n"
     ]
    }
   ],
   "source": [
    "# 3. Advanced Selection and Filtering:\n",
    "\n",
    "import pandas as pd\n",
    "\n",
    "data = {\n",
    "    'Movie': ['Inception', 'The Shawshank Redemption', 'The Dark Knight', 'Interstellar', 'The Godfather', 'Pulp Fiction'],\n",
    "    'Year Released': [2010, 1994, 2008, 2014, 1972, 1994],\n",
    "    'Genre': ['Sci-Fi', 'Drama', 'Action', 'Sci-Fi', 'Crime', 'Crime']\n",
    "}\n",
    "df = pd.DataFrame(data)\n",
    "selected_rows = df[(df['Year Released'] > 2000) & (df['Genre'] != 'Action')]\n",
    "\n",
    "print(\"Rows where 'Year Released' is after 2000 but the genre is not 'Action':\")\n",
    "print(selected_rows)\n"
   ]
  },
  {
   "cell_type": "code",
   "execution_count": 29,
   "metadata": {},
   "outputs": [
    {
     "name": "stdout",
     "output_type": "stream",
     "text": [
      "Rows where the genre is either 'Comedy' or 'Horror':\n",
      "      Movie  Year Released   Genre\n",
      "6  Due Date           2005  Comedy\n"
     ]
    }
   ],
   "source": [
    "import pandas as pd\n",
    "\n",
    "data = {\n",
    "    'Movie': ['Inception', 'The Shawshank Redemption', 'The Dark Knight', 'Interstellar', 'The Godfather', 'Pulp Fiction', 'Due Date'],\n",
    "    'Year Released': [2010, 1994, 2008, 2014, 1972, 1994, 2005],\n",
    "    'Genre': ['Sci-Fi', 'Drama', 'Action', 'Sci-Fi', 'Crime', 'Crime', 'Comedy']\n",
    "}\n",
    "\n",
    "df = pd.DataFrame(data)\n",
    "\n",
    "selected_rows = df[df['Genre'].isin(['Comedy', 'Horror'])]\n",
    "\n",
    "print(\"Rows where the genre is either 'Comedy' or 'Horror':\")\n",
    "print(selected_rows)\n"
   ]
  },
  {
   "cell_type": "code",
   "execution_count": 31,
   "metadata": {},
   "outputs": [
    {
     "name": "stdout",
     "output_type": "stream",
     "text": [
      "Average salary per department:\n",
      "Department\n",
      "Finance    65000.000000\n",
      "HR         52333.333333\n",
      "Name: Salary, dtype: float64\n"
     ]
    }
   ],
   "source": [
    "# 4. Grouping and Aggregating Data:\n",
    "\n",
    "import pandas as pd\n",
    "\n",
    "data = {\n",
    "    'Employee ID': [1, 2, 3, 4, 5, 6],\n",
    "    'Name': ['Ashley', 'John', 'Bibin', 'Joseph', 'Theo', 'Tiana'],\n",
    "    'Department': ['HR', 'Finance', 'HR', 'Finance', 'HR', 'Finance'],\n",
    "    'Salary': [50000, 60000, 55000, 65000, 52000, 70000]\n",
    "}\n",
    "\n",
    "df = pd.DataFrame(data)\n",
    "\n",
    "average_salary_per_department = df.groupby('Department')['Salary'].mean()\n",
    "\n",
    "print(\"Average salary per department:\")\n",
    "print(average_salary_per_department)\n"
   ]
  },
  {
   "cell_type": "code",
   "execution_count": 33,
   "metadata": {},
   "outputs": [
    {
     "name": "stdout",
     "output_type": "stream",
     "text": [
      "Total number of movies per genre:\n",
      "    Genre  Total Movies\n",
      "0  Action             1\n",
      "1  Comedy             1\n",
      "2   Crime             2\n",
      "3   Drama             1\n",
      "4  Sci-Fi             2\n"
     ]
    }
   ],
   "source": [
    "import pandas as pd\n",
    "\n",
    "data = {\n",
    "   'Movie': ['Inception', 'The Shawshank Redemption', 'The Dark Knight', 'Interstellar', 'The Godfather', 'Pulp Fiction', 'Due Date'],\n",
    "    'Year Released': [2010, 1994, 2008, 2014, 1972, 1994, 2005],\n",
    "    'Genre': ['Sci-Fi', 'Drama', 'Action', 'Sci-Fi', 'Crime', 'Crime', 'Comedy']\n",
    "}\n",
    "\n",
    "movies_df = pd.DataFrame(data)\n",
    "\n",
    "movies_per_genre = movies_df.groupby('Genre').size().reset_index(name='Total Movies')\n",
    "\n",
    "print(\"Total number of movies per genre:\")\n",
    "print(movies_per_genre)\n"
   ]
  }
 ],
 "metadata": {
  "kernelspec": {
   "display_name": "Python 3",
   "language": "python",
   "name": "python3"
  },
  "language_info": {
   "codemirror_mode": {
    "name": "ipython",
    "version": 3
   },
   "file_extension": ".py",
   "mimetype": "text/x-python",
   "name": "python",
   "nbconvert_exporter": "python",
   "pygments_lexer": "ipython3",
   "version": "3.11.4"
  }
 },
 "nbformat": 4,
 "nbformat_minor": 2
}
