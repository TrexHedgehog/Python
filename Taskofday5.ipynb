{
 "cells": [
  {
   "cell_type": "code",
   "execution_count": 23,
   "metadata": {},
   "outputs": [
    {
     "name": "stdout",
     "output_type": "stream",
     "text": [
      "The Dog makes a sound: Woof\n",
      "The Cat makes a sound: Meow\n",
      "The Cow makes a sound: Moo\n"
     ]
    }
   ],
   "source": [
    "# Exercise 5: Animal Kingdom\n",
    "\n",
    "class Animal:\n",
    "    def __init__(self, name, sound):\n",
    "        self.name = name\n",
    "        self.sound = sound\n",
    "    def make_sound(self):\n",
    "        print(f\"The {self.name} makes a sound: {self.sound}\")\n",
    "dog = Animal(\"Dog\", \"Woof\")\n",
    "cat = Animal(\"Cat\", \"Meow\")\n",
    "cow = Animal(\"Cow\", \"Moo\")\n",
    "dog.make_sound()\n",
    "cat.make_sound()\n",
    "cow.make_sound()"
   ]
  },
  {
   "cell_type": "code",
   "execution_count": 24,
   "metadata": {},
   "outputs": [
    {
     "name": "stdout",
     "output_type": "stream",
     "text": [
      "Cat makes a sound: Meow\n"
     ]
    }
   ],
   "source": [
    "# Exercise 5: Animal Kingdom\n",
    "\n",
    "class Animal:\n",
    "    def __init__(self, name, sound):\n",
    "        self.name = name\n",
    "        self.sound = sound\n",
    "    \n",
    "    def make_sound(self):\n",
    "        print(f\"{self.name} makes a sound: {self.sound}\")\n",
    "\n",
    "if __name__ == \"__main__\":\n",
    "    cat = Animal(\"Cat\", \"Meow\")\n",
    "    cat.make_sound()  "
   ]
  },
  {
   "cell_type": "code",
   "execution_count": 22,
   "metadata": {},
   "outputs": [
    {
     "name": "stdout",
     "output_type": "stream",
     "text": [
      "Account Number: 123456789\n",
      "Initial Balance: 0\n",
      "Deposited 100 successfully. New balance: 100\n",
      "Withdrawn 50 successfully. New balance: 50\n",
      "Insufficient funds.\n",
      "Invalid deposit amount. Please enter a positive value.\n",
      "Current balance: 50\n"
     ]
    }
   ],
   "source": [
    "#  Exercise 4: Implementing a Bank Account Class\n",
    "\n",
    "class BankAccount:\n",
    "    def __init__(self, accountNumber, balance=0):\n",
    "        self.accountNumber = accountNumber\n",
    "        self.balance = balance\n",
    "    def deposit(self, amount):\n",
    "        if amount > 0:\n",
    "            self.balance += amount\n",
    "            print(f\"Deposited {amount} successfully. New balance: {self.balance}\")\n",
    "        else:\n",
    "            print(\"Invalid deposit amount. Please enter a positive value.\")\n",
    "    def withdraw(self, amount):\n",
    "        if amount > 0:\n",
    "            if self.balance >= amount:\n",
    "                self.balance -= amount\n",
    "                print(f\"Withdrawn {amount} successfully. New balance: {self.balance}\")\n",
    "            else:\n",
    "                print(\"Insufficient funds.\")\n",
    "        else:\n",
    "            print(\"Invalid withdrawal amount. Please enter a positive value.\")\n",
    "    def get_balance(self):\n",
    "        print(f\"Current balance: {self.balance}\")\n",
    "account1 = BankAccount(\"123456789\")\n",
    "print(\"Account Number:\", account1.accountNumber)\n",
    "print(\"Initial Balance:\", account1.balance)\n",
    "\n",
    "account1.deposit(100)\n",
    "account1.withdraw(50)\n",
    "account1.withdraw(80)  \n",
    "account1.deposit(-20)  \n",
    "account1.get_balance()"
   ]
  },
  {
   "cell_type": "code",
   "execution_count": 21,
   "metadata": {},
   "outputs": [
    {
     "name": "stdout",
     "output_type": "stream",
     "text": [
      "Account Number: 123456789\n",
      "Initial Balance: 0\n",
      "Deposited 100 successfully. New balance: 100\n",
      "Withdrawn 50 successfully. New balance: 50\n",
      "Insufficient funds.\n",
      "Invalid deposit amount. Please enter a positive value.\n"
     ]
    }
   ],
   "source": [
    "# Exercise 4: Implementing a Bank Account Class\n",
    "\n",
    "class BankAccount:\n",
    "    def __init__(self, accountNumber, balance=0):\n",
    "        self.accountNumber = accountNumber\n",
    "        self.balance = balance\n",
    "    def deposit(self, amount):\n",
    "        if amount > 0:\n",
    "            self.balance += amount\n",
    "            print(f\"Deposited {amount} successfully. New balance: {self.balance}\")\n",
    "        else:\n",
    "            print(\"Invalid deposit amount. Please enter a positive value.\")\n",
    "    def withdraw(self, amount):\n",
    "        if amount > 0:\n",
    "            if self.balance >= amount:\n",
    "                self.balance -= amount\n",
    "                print(f\"Withdrawn {amount} successfully. New balance: {self.balance}\")\n",
    "            else:\n",
    "                print(\"Insufficient funds.\")\n",
    "        else:\n",
    "            print(\"Invalid withdrawal amount. Please enter a positive value.\")\n",
    "account1 = BankAccount(\"123456789\")\n",
    "print(\"Account Number:\", account1.accountNumber)\n",
    "print(\"Initial Balance:\", account1.balance)\n",
    "account1.deposit(100)\n",
    "account1.withdraw(50)\n",
    "account1.withdraw(80)  \n",
    "account1.deposit(-20)  \n"
   ]
  },
  {
   "cell_type": "code",
   "execution_count": 19,
   "metadata": {},
   "outputs": [
    {
     "name": "stdout",
     "output_type": "stream",
     "text": [
      "Initial balance: 100\n",
      "Balance after deposit: 150\n"
     ]
    }
   ],
   "source": [
    "# Exercise 4: Implementing a Bank Account Class\n",
    "\n",
    "class BankAccount:\n",
    "    def __init__(self, accountNumber, balance=0):\n",
    "        self.accountNumber = accountNumber\n",
    "        self.balance = balance\n",
    "\n",
    "    def deposit(self, amount):\n",
    "        self.balance += amount\n",
    "account1 = BankAccount(12345, 100)\n",
    "print(\"Initial balance:\", account1.balance)\n",
    "account1.deposit(50)\n",
    "print(\"Balance after deposit:\", account1.balance)\n"
   ]
  },
  {
   "cell_type": "code",
   "execution_count": 13,
   "metadata": {},
   "outputs": [],
   "source": [
    "# Exercise 4: Implementing a Bank Account Class\n",
    "\n",
    "class BankAccount:\n",
    "    def __init__(self, accountNumber, balance=0):\n",
    "        self.accountNumber = accountNumber\n",
    "        self.balance = balance\n",
    "    def deposit(self, amount):\n",
    "        if amount >= 0:\n",
    "            self.balance += amount\n",
    "            print(f\"Deposited {amount} into account {self.accountNumber}.\")\n",
    "        else:\n",
    "            print(\"Invalid deposit amount. Please enter a positive value.\")\n"
   ]
  },
  {
   "cell_type": "code",
   "execution_count": 11,
   "metadata": {},
   "outputs": [],
   "source": [
    "# Exercise 4: Implementing a Bank Account Class\n",
    "\n",
    "class BankAccount:\n",
    "    def __init__(self, accountNumber, balance):\n",
    "        self.accountNumber = accountNumber\n",
    "        self.balance = balance\n",
    "    \n"
   ]
  },
  {
   "cell_type": "code",
   "execution_count": 7,
   "metadata": {},
   "outputs": [
    {
     "name": "stdout",
     "output_type": "stream",
     "text": [
      "This rectangles length is 5 units and breadth is 10 units.\n",
      "This rectangles length is 3 units and breadth is 7 units.\n"
     ]
    }
   ],
   "source": [
    "# Exercise 3: Creating Instances\n",
    "\n",
    "class Rectangle:\n",
    "    def __init__(self, length, breadth):\n",
    "        self.length = length\n",
    "        self.breadth = breadth\n",
    "    def describe(self):\n",
    "        print(f\"This rectangles length is {self.length} units and breadth is {self.breadth} units.\")\n",
    "rectangle1 = Rectangle(5, 10)\n",
    "rectangle2 = Rectangle(3, 7)\n",
    "rectangle1.describe()\n",
    "rectangle2.describe()\n"
   ]
  },
  {
   "cell_type": "code",
   "execution_count": 5,
   "metadata": {},
   "outputs": [
    {
     "name": "stdout",
     "output_type": "stream",
     "text": [
      "Rectangle 1:\n",
      "Length: 5\n",
      "Breadth: 10\n",
      "Area: 50\n",
      "\n",
      "Rectangle 2:\n",
      "Length: 3\n",
      "Breadth: 7\n",
      "Area: 21\n"
     ]
    }
   ],
   "source": [
    "# Exercise 3: Creating Instances\n",
    "\n",
    "class Rectangle:\n",
    "    def __init__(self, length, breadth):\n",
    "        self.length = length\n",
    "        self.breadth = breadth\n",
    "rectangle1 = Rectangle(5, 10)\n",
    "rectangle2 = Rectangle(3, 7)\n",
    "print(\"Rectangle 1:\")\n",
    "print(\"Length:\", rectangle1.length)\n",
    "print(\"Breadth:\", rectangle1.breadth)\n",
    "print(\"Area:\", rectangle1.length * rectangle1.breadth)\n",
    "\n",
    "print(\"\\nRectangle 2:\")\n",
    "print(\"Length:\", rectangle2.length)\n",
    "print(\"Breadth:\", rectangle2.breadth)\n",
    "print(\"Area:\", rectangle2.length * rectangle2.breadth)\n"
   ]
  },
  {
   "cell_type": "code",
   "execution_count": 4,
   "metadata": {},
   "outputs": [
    {
     "name": "stdout",
     "output_type": "stream",
     "text": [
      "Rectangle with length 5 and breadth 10:\n",
      "Area: 50\n",
      "Perimeter: 30\n"
     ]
    }
   ],
   "source": [
    "# Exercise 2: Enhancing the Rectangle Class\n",
    "\n",
    "class Rectangle:\n",
    "    def __init__(self, length, breadth):\n",
    "        self.length = length\n",
    "        self.breadth = breadth\n",
    "\n",
    "    def area(self):\n",
    "        return self.length * self.breadth\n",
    "\n",
    "    def perimeter(self):\n",
    "        return 2 * (self.length + self.breadth)\n",
    "\n",
    "    def describe(self):\n",
    "        print(f\"Rectangle with length {self.length} and breadth {self.breadth}:\")\n",
    "        print(f\"Area: {self.area()}\")\n",
    "        print(f\"Perimeter: {self.perimeter()}\")\n",
    "rect = Rectangle(5, 10)\n",
    "rect.describe()\n"
   ]
  },
  {
   "cell_type": "code",
   "execution_count": 2,
   "metadata": {},
   "outputs": [],
   "source": [
    "# Exercise 2: Enhancing the Rectangle Class\n",
    "\n",
    "class Rectangle:\n",
    "    def __init__(self, length, breadth):\n",
    "        self.length = length\n",
    "        self.breadth = breadth\n",
    "\n",
    "    def area(self):\n",
    "        return self.length * self.breadth\n",
    "\n",
    "    def perimeter(self):\n",
    "        return 2 * (self.length + self.breadth)\n"
   ]
  },
  {
   "cell_type": "code",
   "execution_count": 1,
   "metadata": {},
   "outputs": [],
   "source": [
    "# Exercise 1: Basic Class Definition\n",
    "\n",
    "class Rectangle:\n",
    "    def __init__(self, length, breadth):\n",
    "        self.length = length\n",
    "        self.breadth = breadth\n",
    "\n",
    "    def area(self):\n",
    "        return self.length * self.breadth\n"
   ]
  }
 ],
 "metadata": {
  "kernelspec": {
   "display_name": "Python 3",
   "language": "python",
   "name": "python3"
  },
  "language_info": {
   "codemirror_mode": {
    "name": "ipython",
    "version": 3
   },
   "file_extension": ".py",
   "mimetype": "text/x-python",
   "name": "python",
   "nbconvert_exporter": "python",
   "pygments_lexer": "ipython3",
   "version": "3.11.4"
  }
 },
 "nbformat": 4,
 "nbformat_minor": 2
}
